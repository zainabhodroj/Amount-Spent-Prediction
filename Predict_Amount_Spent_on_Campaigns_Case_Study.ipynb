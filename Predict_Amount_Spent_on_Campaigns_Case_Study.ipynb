{
  "cells": [
    {
      "cell_type": "markdown",
      "metadata": {
        "id": "jrPuC4gOy0o-"
      },
      "source": [
        "# Case Study: Predict the daily amount spend of campaigns \n",
        "Prepared by Zainab Hodroj"
      ]
    },
    {
      "cell_type": "markdown",
      "metadata": {
        "id": "QRTQfLFty0pB"
      },
      "source": [
        "## **Overview**\n",
        "\n",
        "Many companies would benefit immensely by investigating the amount spent on campaigns and taking steps to improve it. Let's look at how we can develop this intelligence using machine learning.\n",
        "\n",
        "##About The Data \n",
        "\n",
        "The data includes different objectives and KPIs like reach, impressions, clicks, etc...Our goal is to find the most important variables related to the amount spent and creat an ML rool that will help in accuratly predicting the amount spent.\n"
      ]
    },
    {
      "cell_type": "markdown",
      "metadata": {
        "id": "2lYY3102y0pC"
      },
      "source": [
        "## Importing the Libraries"
      ]
    },
    {
      "cell_type": "code",
      "execution_count": 1238,
      "metadata": {
        "id": "H61EBZgvy0pD"
      },
      "outputs": [],
      "source": [
        "import pandas as pd\n",
        "import numpy as np\n",
        "import matplotlib.pyplot as plt\n",
        "import seaborn as sns\n",
        "import missingno as ms\n",
        "from sklearn import model_selection, metrics  #to include metrics for evaluation # this used to be cross_validation\n",
        "from sklearn.preprocessing import StandardScaler\n",
        "from sklearn.model_selection import GridSearchCV\n",
        "from sklearn.model_selection import train_test_split\n",
        "import matplotlib.pylab as plt\n",
        "%matplotlib inline"
      ]
    },
    {
      "cell_type": "code",
      "execution_count": 1239,
      "metadata": {
        "id": "2_wZKe4DMfod"
      },
      "outputs": [],
      "source": [
        "# Quiet warnings (it quiets future and deprecation warnings).\n",
        "def warn(*args, **kwargs):\n",
        "    pass\n",
        "import warnings\n",
        "warnings.warn = warn"
      ]
    },
    {
      "cell_type": "markdown",
      "metadata": {
        "id": "sknHgWZQy0pI"
      },
      "source": [
        "## Data Cleaning"
      ]
    },
    {
      "cell_type": "code",
      "execution_count": 1240,
      "metadata": {
        "colab": {
          "base_uri": "https://localhost:8080/",
          "height": 322
        },
        "id": "gfmhfLvmy0pJ",
        "outputId": "a3e135bd-982f-4827-9011-0b71c9969371"
      },
      "outputs": [
        {
          "data": {
            "text/html": [
              "<div>\n",
              "<style scoped>\n",
              "    .dataframe tbody tr th:only-of-type {\n",
              "        vertical-align: middle;\n",
              "    }\n",
              "\n",
              "    .dataframe tbody tr th {\n",
              "        vertical-align: top;\n",
              "    }\n",
              "\n",
              "    .dataframe thead th {\n",
              "        text-align: right;\n",
              "    }\n",
              "</style>\n",
              "<table border=\"1\" class=\"dataframe\">\n",
              "  <thead>\n",
              "    <tr style=\"text-align: right;\">\n",
              "      <th></th>\n",
              "      <th>Reporting starts</th>\n",
              "      <th>Reporting ends</th>\n",
              "      <th>Campaign name</th>\n",
              "      <th>Reach</th>\n",
              "      <th>Impressions</th>\n",
              "      <th>Link clicks</th>\n",
              "      <th>Landing page views</th>\n",
              "      <th>Post engagement</th>\n",
              "      <th>3-second video plays</th>\n",
              "      <th>ThruPlays</th>\n",
              "      <th>Post comments</th>\n",
              "      <th>Post saves</th>\n",
              "      <th>Post reactions</th>\n",
              "      <th>Post shares</th>\n",
              "      <th>Video plays at 50%</th>\n",
              "      <th>Leads</th>\n",
              "      <th>Amount Spent</th>\n",
              "    </tr>\n",
              "  </thead>\n",
              "  <tbody>\n",
              "    <tr>\n",
              "      <th>0</th>\n",
              "      <td>31/12/2021</td>\n",
              "      <td>31/12/2021</td>\n",
              "      <td>0016_CPE_Egypt_Dec'21</td>\n",
              "      <td>82607</td>\n",
              "      <td>108515</td>\n",
              "      <td>5.0</td>\n",
              "      <td>NaN</td>\n",
              "      <td>3671.0</td>\n",
              "      <td>NaN</td>\n",
              "      <td>NaN</td>\n",
              "      <td>31.0</td>\n",
              "      <td>7.0</td>\n",
              "      <td>2601.0</td>\n",
              "      <td>20.0</td>\n",
              "      <td>NaN</td>\n",
              "      <td>NaN</td>\n",
              "      <td>442.86</td>\n",
              "    </tr>\n",
              "    <tr>\n",
              "      <th>1</th>\n",
              "      <td>31/12/2021</td>\n",
              "      <td>31/12/2021</td>\n",
              "      <td>0016_Egypt_CPC_Dec'21</td>\n",
              "      <td>63441</td>\n",
              "      <td>68432</td>\n",
              "      <td>51.0</td>\n",
              "      <td>6.0</td>\n",
              "      <td>3490.0</td>\n",
              "      <td>3397.0</td>\n",
              "      <td>325.0</td>\n",
              "      <td>NaN</td>\n",
              "      <td>3.0</td>\n",
              "      <td>39.0</td>\n",
              "      <td>NaN</td>\n",
              "      <td>565.0</td>\n",
              "      <td>NaN</td>\n",
              "      <td>94.85</td>\n",
              "    </tr>\n",
              "    <tr>\n",
              "      <th>2</th>\n",
              "      <td>31/12/2021</td>\n",
              "      <td>31/12/2021</td>\n",
              "      <td>0016_CPLPV_Egypt_Dec'21</td>\n",
              "      <td>16064</td>\n",
              "      <td>16850</td>\n",
              "      <td>28.0</td>\n",
              "      <td>17.0</td>\n",
              "      <td>50.0</td>\n",
              "      <td>NaN</td>\n",
              "      <td>NaN</td>\n",
              "      <td>1.0</td>\n",
              "      <td>1.0</td>\n",
              "      <td>17.0</td>\n",
              "      <td>3.0</td>\n",
              "      <td>NaN</td>\n",
              "      <td>NaN</td>\n",
              "      <td>72.30</td>\n",
              "    </tr>\n",
              "    <tr>\n",
              "      <th>3</th>\n",
              "      <td>31/12/2021</td>\n",
              "      <td>31/12/2021</td>\n",
              "      <td>0016_Egypt_Remarketing_Dec'21</td>\n",
              "      <td>18664</td>\n",
              "      <td>21406</td>\n",
              "      <td>12.0</td>\n",
              "      <td>1.0</td>\n",
              "      <td>19.0</td>\n",
              "      <td>NaN</td>\n",
              "      <td>NaN</td>\n",
              "      <td>2.0</td>\n",
              "      <td>NaN</td>\n",
              "      <td>5.0</td>\n",
              "      <td>NaN</td>\n",
              "      <td>NaN</td>\n",
              "      <td>NaN</td>\n",
              "      <td>43.62</td>\n",
              "    </tr>\n",
              "    <tr>\n",
              "      <th>4</th>\n",
              "      <td>31/12/2021</td>\n",
              "      <td>31/12/2021</td>\n",
              "      <td>0016_CPC_KSA_Dec'21</td>\n",
              "      <td>159934</td>\n",
              "      <td>166541</td>\n",
              "      <td>268.0</td>\n",
              "      <td>105.0</td>\n",
              "      <td>355.0</td>\n",
              "      <td>NaN</td>\n",
              "      <td>NaN</td>\n",
              "      <td>NaN</td>\n",
              "      <td>13.0</td>\n",
              "      <td>58.0</td>\n",
              "      <td>16.0</td>\n",
              "      <td>NaN</td>\n",
              "      <td>NaN</td>\n",
              "      <td>771.16</td>\n",
              "    </tr>\n",
              "  </tbody>\n",
              "</table>\n",
              "</div>"
            ],
            "text/plain": [
              "  Reporting starts Reporting ends                  Campaign name   Reach  \\\n",
              "0       31/12/2021     31/12/2021          0016_CPE_Egypt_Dec'21   82607   \n",
              "1       31/12/2021     31/12/2021          0016_Egypt_CPC_Dec'21   63441   \n",
              "2       31/12/2021     31/12/2021        0016_CPLPV_Egypt_Dec'21   16064   \n",
              "3       31/12/2021     31/12/2021  0016_Egypt_Remarketing_Dec'21   18664   \n",
              "4       31/12/2021     31/12/2021            0016_CPC_KSA_Dec'21  159934   \n",
              "\n",
              "   Impressions  Link clicks  Landing page views  Post engagement  \\\n",
              "0       108515          5.0                 NaN           3671.0   \n",
              "1        68432         51.0                 6.0           3490.0   \n",
              "2        16850         28.0                17.0             50.0   \n",
              "3        21406         12.0                 1.0             19.0   \n",
              "4       166541        268.0               105.0            355.0   \n",
              "\n",
              "   3-second video plays  ThruPlays  Post comments  Post saves  Post reactions  \\\n",
              "0                   NaN        NaN           31.0         7.0          2601.0   \n",
              "1                3397.0      325.0            NaN         3.0            39.0   \n",
              "2                   NaN        NaN            1.0         1.0            17.0   \n",
              "3                   NaN        NaN            2.0         NaN             5.0   \n",
              "4                   NaN        NaN            NaN        13.0            58.0   \n",
              "\n",
              "   Post shares  Video plays at 50%  Leads  Amount Spent  \n",
              "0         20.0                 NaN    NaN        442.86  \n",
              "1          NaN               565.0    NaN         94.85  \n",
              "2          3.0                 NaN    NaN         72.30  \n",
              "3          NaN                 NaN    NaN         43.62  \n",
              "4         16.0                 NaN    NaN        771.16  "
            ]
          },
          "execution_count": 1240,
          "metadata": {},
          "output_type": "execute_result"
        }
      ],
      "source": [
        "# Read the data and view it.\n",
        "data=pd.read_csv('ML_Prediction.csv')\n",
        "data.head()"
      ]
    },
    {
      "cell_type": "code",
      "execution_count": 1241,
      "metadata": {
        "colab": {
          "base_uri": "https://localhost:8080/"
        },
        "id": "yQJYcrjpy0pN",
        "outputId": "927133b3-c25b-4b5e-8bc2-7182e57c957c"
      },
      "outputs": [
        {
          "name": "stdout",
          "output_type": "stream",
          "text": [
            "<class 'pandas.core.frame.DataFrame'>\n",
            "RangeIndex: 35770 entries, 0 to 35769\n",
            "Data columns (total 17 columns):\n",
            " #   Column                Non-Null Count  Dtype  \n",
            "---  ------                --------------  -----  \n",
            " 0   Reporting starts      35770 non-null  object \n",
            " 1   Reporting ends        35770 non-null  object \n",
            " 2   Campaign name         35770 non-null  object \n",
            " 3   Reach                 35770 non-null  int64  \n",
            " 4   Impressions           35770 non-null  int64  \n",
            " 5   Link clicks           2321 non-null   float64\n",
            " 6   Landing page views    2042 non-null   float64\n",
            " 7   Post engagement       2198 non-null   float64\n",
            " 8   3-second video plays  1053 non-null   float64\n",
            " 9   ThruPlays             1052 non-null   float64\n",
            " 10  Post comments         1554 non-null   float64\n",
            " 11  Post saves            1466 non-null   float64\n",
            " 12  Post reactions        2164 non-null   float64\n",
            " 13  Post shares           1150 non-null   float64\n",
            " 14  Video plays at 50%    1052 non-null   float64\n",
            " 15  Leads                 641 non-null    float64\n",
            " 16  Amount Spent          35770 non-null  float64\n",
            "dtypes: float64(12), int64(2), object(3)\n",
            "memory usage: 4.6+ MB\n"
          ]
        }
      ],
      "source": [
        "# See if the data info.\n",
        "data.info()"
      ]
    },
    {
      "cell_type": "code",
      "execution_count": 1242,
      "metadata": {
        "colab": {
          "base_uri": "https://localhost:8080/"
        },
        "id": "vq21IAQCh3wT",
        "outputId": "dae18b0e-a0dc-4d9c-ace0-f9e7016e3cbb"
      },
      "outputs": [
        {
          "data": {
            "text/plain": [
              "Reporting starts        False\n",
              "Reporting ends          False\n",
              "Campaign name           False\n",
              "Reach                   False\n",
              "Impressions             False\n",
              "Link clicks              True\n",
              "Landing page views       True\n",
              "Post engagement          True\n",
              "3-second video plays     True\n",
              "ThruPlays                True\n",
              "Post comments            True\n",
              "Post saves               True\n",
              "Post reactions           True\n",
              "Post shares              True\n",
              "Video plays at 50%       True\n",
              "Leads                    True\n",
              "Amount Spent            False\n",
              "dtype: bool"
            ]
          },
          "execution_count": 1242,
          "metadata": {},
          "output_type": "execute_result"
        }
      ],
      "source": [
        "#null values\n",
        "data.isnull().any()"
      ]
    },
    {
      "cell_type": "code",
      "execution_count": 1243,
      "metadata": {},
      "outputs": [],
      "source": [
        "#dropping all null values in the target variable\n",
        "data = data[data[\"Amount Spent\"] != 0.0]"
      ]
    },
    {
      "cell_type": "code",
      "execution_count": 1244,
      "metadata": {
        "colab": {
          "base_uri": "https://localhost:8080/"
        },
        "id": "A2E-8kDo0UxF",
        "outputId": "847d5287-bf72-493f-cfb1-c616c26cf3ab"
      },
      "outputs": [
        {
          "data": {
            "text/plain": [
              "(2342, 17)"
            ]
          },
          "execution_count": 1244,
          "metadata": {},
          "output_type": "execute_result"
        }
      ],
      "source": [
        "# See how many rows and columns.\n",
        "data.shape"
      ]
    },
    {
      "cell_type": "code",
      "execution_count": 1245,
      "metadata": {
        "colab": {
          "base_uri": "https://localhost:8080/"
        },
        "id": "4Io4kHXxnBpB",
        "outputId": "304dc99a-c8fd-42ca-b47a-9b80c5a4d75e"
      },
      "outputs": [
        {
          "data": {
            "text/plain": [
              "array([\"0016_CPE_Egypt_Dec'21\", \"0016_Egypt_CPC_Dec'21\",\n",
              "       \"0016_CPLPV_Egypt_Dec'21\", ..., \"0016_PL_CPL_Egypt_Jan'21\",\n",
              "       \"0016_PL_CPE_Egypt_Jan'21\", \"0016_PL_CPE_Egypt_Jan'21\"],\n",
              "      dtype=object)"
            ]
          },
          "execution_count": 1245,
          "metadata": {},
          "output_type": "execute_result"
        }
      ],
      "source": [
        "data['Campaign name'].values"
      ]
    },
    {
      "cell_type": "code",
      "execution_count": 1246,
      "metadata": {
        "colab": {
          "base_uri": "https://localhost:8080/"
        },
        "id": "IXq3Nmsrjev_",
        "outputId": "17940451-dc89-4be7-ca0d-5f130448bc0e"
      },
      "outputs": [],
      "source": [
        "data['Campaign name'] = data['Campaign name'].astype(str)\n"
      ]
    },
    {
      "cell_type": "code",
      "execution_count": 1247,
      "metadata": {
        "id": "R6etPuXjm_BL"
      },
      "outputs": [],
      "source": [
        "data[['ID','Objective',\"Country\",\"Date2\",\"5\",'6']] = data['Campaign name'].str.split(\"_\", expand=True)\n"
      ]
    },
    {
      "cell_type": "code",
      "execution_count": 1248,
      "metadata": {},
      "outputs": [
        {
          "data": {
            "text/plain": [
              "0016    2342\n",
              "Name: ID, dtype: int64"
            ]
          },
          "execution_count": 1248,
          "metadata": {},
          "output_type": "execute_result"
        }
      ],
      "source": [
        "data[\"ID\"].value_counts()"
      ]
    },
    {
      "cell_type": "code",
      "execution_count": 1249,
      "metadata": {
        "colab": {
          "base_uri": "https://localhost:8080/"
        },
        "id": "hC9LGknOn_TC",
        "outputId": "e5421476-9741-410a-ffd1-65f20e8b2c4b"
      },
      "outputs": [
        {
          "data": {
            "text/plain": [
              "L              678\n",
              "Egypt          460\n",
              "CPMR           385\n",
              "CPLPV          294\n",
              "CPC            132\n",
              "CPE            125\n",
              "CPA            120\n",
              "Remarketing     74\n",
              "PL              38\n",
              "Awareness       20\n",
              "CPV             16\n",
              "Name: Objective, dtype: int64"
            ]
          },
          "execution_count": 1249,
          "metadata": {},
          "output_type": "execute_result"
        }
      ],
      "source": [
        "data[\"Objective\"].value_counts()"
      ]
    },
    {
      "cell_type": "code",
      "execution_count": 1250,
      "metadata": {
        "colab": {
          "base_uri": "https://localhost:8080/"
        },
        "id": "1I_tifVRnJfA",
        "outputId": "26f8089a-3709-42ce-a6aa-913416782edd"
      },
      "outputs": [
        {
          "data": {
            "text/plain": [
              "Egypt          379\n",
              "CPC            314\n",
              "Qatar          297\n",
              "KSA            266\n",
              "CPA            246\n",
              "CPL            200\n",
              "CPE            168\n",
              "CPMR           168\n",
              "Remarketing    123\n",
              "Auction         83\n",
              "UAE             63\n",
              "UAE             24\n",
              "ND               7\n",
              "R&F              4\n",
              "Name: Country, dtype: int64"
            ]
          },
          "execution_count": 1250,
          "metadata": {},
          "output_type": "execute_result"
        }
      ],
      "source": [
        "data[\"Country\"].value_counts()"
      ]
    },
    {
      "cell_type": "code",
      "execution_count": 1251,
      "metadata": {},
      "outputs": [
        {
          "data": {
            "text/plain": [
              "Feb'21              122\n",
              "Mar'21              113\n",
              "June'21             112\n",
              "July'21             109\n",
              "Oct'21              109\n",
              "April'21             99\n",
              "Dec'21               93\n",
              "May'21               91\n",
              "Nov'21               84\n",
              "Sept'21              55\n",
              "SignUps              50\n",
              "LPV                  46\n",
              "Jan'21               38\n",
              "Egypt                26\n",
              "Orders               24\n",
              "Copy                 24\n",
              "JulyAugSepOct'21     20\n",
              "Aug'21                8\n",
              "Sep'21                7\n",
              "July'21 – Copy        6\n",
              "Name: 5, dtype: int64"
            ]
          },
          "execution_count": 1251,
          "metadata": {},
          "output_type": "execute_result"
        }
      ],
      "source": [
        "data[\"5\"].value_counts()"
      ]
    },
    {
      "cell_type": "code",
      "execution_count": 1252,
      "metadata": {
        "colab": {
          "base_uri": "https://localhost:8080/"
        },
        "id": "y7HYbqLBAzIz",
        "outputId": "da4f4b16-a58c-48f4-84df-0a7a43a211fd"
      },
      "outputs": [
        {
          "data": {
            "text/plain": [
              "May'21              26\n",
              "01                  25\n",
              "JulyAugSepOct'21    24\n",
              "ABTest              23\n",
              "02                  23\n",
              "Name: 6, dtype: int64"
            ]
          },
          "execution_count": 1252,
          "metadata": {},
          "output_type": "execute_result"
        }
      ],
      "source": [
        "data[\"6\"].value_counts()\n"
      ]
    },
    {
      "cell_type": "code",
      "execution_count": 1253,
      "metadata": {},
      "outputs": [
        {
          "data": {
            "text/plain": [
              "True"
            ]
          },
          "execution_count": 1253,
          "metadata": {},
          "output_type": "execute_result"
        }
      ],
      "source": [
        "data['Reporting starts'].equals(data['Reporting ends'])\n"
      ]
    },
    {
      "cell_type": "code",
      "execution_count": 1254,
      "metadata": {},
      "outputs": [],
      "source": [
        "#Dropping the columns that are not needed for the analysis and renaming Reporting starts and Reporting starts to Date\n",
        "data = data.rename(columns={'Reporting starts': 'Date'})\n",
        "data.drop(['Reporting ends', '6'], axis = 1, inplace = True) \n"
      ]
    },
    {
      "cell_type": "code",
      "execution_count": 1255,
      "metadata": {},
      "outputs": [
        {
          "data": {
            "text/plain": [
              "1713"
            ]
          },
          "execution_count": 1255,
          "metadata": {},
          "output_type": "execute_result"
        }
      ],
      "source": [
        "data[\"Leads\"].isna().sum()"
      ]
    },
    {
      "cell_type": "code",
      "execution_count": 1256,
      "metadata": {},
      "outputs": [],
      "source": [
        "#choose Egypt Qatar KSA UAE in the country/Objective/Date column and place them in a new column\n",
        "data['Country2'] = np.where(data['Country'] == 'Egypt', 'Egypt', np.where(data['Country'] == 'Qatar', 'Qatar', np.where(data['Country'] == 'KSA', 'KSA', np.where(data['Country'] == 'UAE', 'UAE', 'na'))))\n",
        "data[\"Country3\"] = np.where(data[\"Objective\"] == 'Egypt', 'Egypt', np.where(data[\"Objective\"] == 'Qatar', 'Qatar', np.where(data[\"Objective\"] == 'KSA', 'KSA', np.where(data[\"Objective\"] == 'UAE', 'UAE', 'na'))))\n",
        "data[\"Country4\"] = np.where(data[\"Date2\"] == 'Egypt', 'Egypt', np.where(data[\"Date2\"] == 'Qatar', 'Qatar', np.where(data[\"Date2\"] == 'KSA', 'KSA', np.where(data[\"Date2\"] == 'UAE', 'UAE', 'na'))))\n",
        "data[\"Country5\"] = np.where(data['5'] == 'Egypt', 'Egypt', np.where(data['5'] == 'Qatar', 'Qatar', np.where(data['5'] == 'KSA', 'KSA', np.where(data['5'] == 'UAE', 'UAE', 'na'))))\n"
      ]
    },
    {
      "cell_type": "code",
      "execution_count": 1257,
      "metadata": {},
      "outputs": [
        {
          "data": {
            "text/plain": [
              "na       1515\n",
              "Egypt     777\n",
              "KSA        30\n",
              "UAE        20\n",
              "Name: Country4, dtype: int64"
            ]
          },
          "execution_count": 1257,
          "metadata": {},
          "output_type": "execute_result"
        }
      ],
      "source": [
        "data[\"Country4\"].value_counts()"
      ]
    },
    {
      "cell_type": "code",
      "execution_count": 1258,
      "metadata": {},
      "outputs": [
        {
          "data": {
            "text/plain": [
              "False"
            ]
          },
          "execution_count": 1258,
          "metadata": {},
          "output_type": "execute_result"
        }
      ],
      "source": [
        "data['Country3'].equals(data['Country2'])\n"
      ]
    },
    {
      "cell_type": "code",
      "execution_count": 1259,
      "metadata": {},
      "outputs": [],
      "source": [
        "#Country 4 contains all the countries that are in the data set\n",
        "data['Country2'] = np.where(data['Country2'] == \"na\", data['Country3'], data['Country2'])\n",
        "data['Country3'] = np.where(data['Country3'] == \"na\", data['Country2'], data['Country3'])\n",
        "data['Country4'] = np.where(data['Country4'] == \"na\", data['Country3'], data['Country4'])\n",
        "data[\"Country5\"] = np.where(data[\"Country5\"] == \"na\", data['Country4'], data['Country5'])\n"
      ]
    },
    {
      "cell_type": "code",
      "execution_count": 1260,
      "metadata": {},
      "outputs": [
        {
          "data": {
            "text/plain": [
              "Egypt    1642\n",
              "Qatar     297\n",
              "KSA       296\n",
              "UAE        83\n",
              "na         24\n",
              "Name: Country5, dtype: int64"
            ]
          },
          "execution_count": 1260,
          "metadata": {},
          "output_type": "execute_result"
        }
      ],
      "source": [
        "data[\"Country5\"].value_counts() "
      ]
    },
    {
      "cell_type": "code",
      "execution_count": 1261,
      "metadata": {},
      "outputs": [
        {
          "data": {
            "text/plain": [
              "Egypt                777\n",
              "May'21               297\n",
              "Sept'21              182\n",
              "Aug'21               177\n",
              "Dec'21               176\n",
              "Oct'21               152\n",
              "Nov'21               144\n",
              "PreOrder             122\n",
              "CRM                  109\n",
              "JulyAugSepOct'21      56\n",
              "July'21               31\n",
              "KSA                   30\n",
              "ABTest                26\n",
              "Conversions           24\n",
              "UAE                   20\n",
              "JulyAugSeptOct'21      7\n",
              "ND                     7\n",
              "June'21                4\n",
              "Conversion             1\n",
              "Name: Date2, dtype: int64"
            ]
          },
          "execution_count": 1261,
          "metadata": {},
          "output_type": "execute_result"
        }
      ],
      "source": [
        "data[\"Date2\"].value_counts()"
      ]
    },
    {
      "cell_type": "code",
      "execution_count": 1262,
      "metadata": {},
      "outputs": [],
      "source": [
        "#drop country2, 3, and 4 columns\n",
        "data.drop(['Country2', 'Country3', 'Country5'], axis = 1, inplace = True)"
      ]
    },
    {
      "cell_type": "code",
      "execution_count": 1263,
      "metadata": {},
      "outputs": [],
      "source": [
        "#choose CPC, CPMR, CPV, CPM, CPL, CPA, CPLPV in the country/Objective/Date column and place them in a new column\n",
        "data['Objective1'] = np.where(data['Country'] == 'CPC', 'CPC', np.where(data['Country'] == 'CPMR', 'CPMR', np.where(data['Country'] =='CPV', 'CPV' , np.where(data['Country'] == 'CPM', 'CPM', np.where(data['Country'] == 'CPM', 'CPM', np.where(data['Country'] == 'CPL', 'CPL',np.where(data['Country'] == 'CPA', 'CPA', np.where(data['Country'] == 'CPLPV', 'CPLPV',np.where(data['Country'] == 'CPE', 'CPE',  np.where(data['Country'] == 'Remarketing', 'Remarketing', 'na'))))))))))\n",
        "data['Objective2'] = np.where(data['Objective'] == 'CPC', 'CPC',  np.where(data['Objective'] == 'CPMR', 'CPMR', np.where(data['Objective'] =='CPV', 'CPV' , np.where(data['Objective'] == 'CPM', 'CPM', np.where(data['Objective'] == 'CPM', 'CPM', np.where(data['Objective'] == 'CPL', 'CPL',np.where(data['Objective'] == 'CPA', 'CPA', np.where(data['Objective'] == 'CPLPV', 'CPLPV',np.where(data['Objective'] == 'CPE', 'CPE', np.where(data['Objective'] == 'Remarketing', 'Remarketing', 'na'))))))))))"
      ]
    },
    {
      "cell_type": "code",
      "execution_count": 1264,
      "metadata": {},
      "outputs": [],
      "source": [
        "data['Objective1'] = np.where(data['Objective1'] == \"na\", data['Objective2'], data['Objective1'])\n",
        "#data['Objective2'] = np.where(data['Objective2'] == \"na\", data['Objective1'], data['Objective2'])"
      ]
    },
    {
      "cell_type": "code",
      "execution_count": 1265,
      "metadata": {},
      "outputs": [
        {
          "data": {
            "text/plain": [
              "(2342, 24)"
            ]
          },
          "execution_count": 1265,
          "metadata": {},
          "output_type": "execute_result"
        }
      ],
      "source": [
        "data.shape"
      ]
    },
    {
      "cell_type": "code",
      "execution_count": 1266,
      "metadata": {},
      "outputs": [
        {
          "data": {
            "text/plain": [
              "CPMR           553\n",
              "CPC            446\n",
              "CPA            366\n",
              "CPLPV          294\n",
              "CPE            293\n",
              "CPL            200\n",
              "Remarketing    174\n",
              "CPV             16\n",
              "Name: Objective1, dtype: int64"
            ]
          },
          "execution_count": 1266,
          "metadata": {},
          "output_type": "execute_result"
        }
      ],
      "source": [
        "data[\"Objective1\"].value_counts()"
      ]
    },
    {
      "cell_type": "code",
      "execution_count": 1267,
      "metadata": {},
      "outputs": [],
      "source": [
        "#drop objective1 and ID columns\n",
        "data.drop(['Objective2', 'ID'], axis = 1, inplace = True)"
      ]
    },
    {
      "cell_type": "code",
      "execution_count": 1268,
      "metadata": {},
      "outputs": [
        {
          "data": {
            "text/html": [
              "<div>\n",
              "<style scoped>\n",
              "    .dataframe tbody tr th:only-of-type {\n",
              "        vertical-align: middle;\n",
              "    }\n",
              "\n",
              "    .dataframe tbody tr th {\n",
              "        vertical-align: top;\n",
              "    }\n",
              "\n",
              "    .dataframe thead th {\n",
              "        text-align: right;\n",
              "    }\n",
              "</style>\n",
              "<table border=\"1\" class=\"dataframe\">\n",
              "  <thead>\n",
              "    <tr style=\"text-align: right;\">\n",
              "      <th></th>\n",
              "      <th>Date</th>\n",
              "      <th>Campaign name</th>\n",
              "      <th>Reach</th>\n",
              "      <th>Impressions</th>\n",
              "      <th>Link clicks</th>\n",
              "      <th>Landing page views</th>\n",
              "      <th>Post engagement</th>\n",
              "      <th>3-second video plays</th>\n",
              "      <th>ThruPlays</th>\n",
              "      <th>Post comments</th>\n",
              "      <th>...</th>\n",
              "      <th>Post shares</th>\n",
              "      <th>Video plays at 50%</th>\n",
              "      <th>Leads</th>\n",
              "      <th>Amount Spent</th>\n",
              "      <th>Objective</th>\n",
              "      <th>Country</th>\n",
              "      <th>Date2</th>\n",
              "      <th>5</th>\n",
              "      <th>Country4</th>\n",
              "      <th>Objective1</th>\n",
              "    </tr>\n",
              "  </thead>\n",
              "  <tbody>\n",
              "    <tr>\n",
              "      <th>0</th>\n",
              "      <td>31/12/2021</td>\n",
              "      <td>0016_CPE_Egypt_Dec'21</td>\n",
              "      <td>82607</td>\n",
              "      <td>108515</td>\n",
              "      <td>5.0</td>\n",
              "      <td>NaN</td>\n",
              "      <td>3671.0</td>\n",
              "      <td>NaN</td>\n",
              "      <td>NaN</td>\n",
              "      <td>31.0</td>\n",
              "      <td>...</td>\n",
              "      <td>20.0</td>\n",
              "      <td>NaN</td>\n",
              "      <td>NaN</td>\n",
              "      <td>442.86</td>\n",
              "      <td>CPE</td>\n",
              "      <td>Egypt</td>\n",
              "      <td>Dec'21</td>\n",
              "      <td>None</td>\n",
              "      <td>Egypt</td>\n",
              "      <td>CPE</td>\n",
              "    </tr>\n",
              "    <tr>\n",
              "      <th>1</th>\n",
              "      <td>31/12/2021</td>\n",
              "      <td>0016_Egypt_CPC_Dec'21</td>\n",
              "      <td>63441</td>\n",
              "      <td>68432</td>\n",
              "      <td>51.0</td>\n",
              "      <td>6.0</td>\n",
              "      <td>3490.0</td>\n",
              "      <td>3397.0</td>\n",
              "      <td>325.0</td>\n",
              "      <td>NaN</td>\n",
              "      <td>...</td>\n",
              "      <td>NaN</td>\n",
              "      <td>565.0</td>\n",
              "      <td>NaN</td>\n",
              "      <td>94.85</td>\n",
              "      <td>Egypt</td>\n",
              "      <td>CPC</td>\n",
              "      <td>Dec'21</td>\n",
              "      <td>None</td>\n",
              "      <td>Egypt</td>\n",
              "      <td>CPC</td>\n",
              "    </tr>\n",
              "    <tr>\n",
              "      <th>2</th>\n",
              "      <td>31/12/2021</td>\n",
              "      <td>0016_CPLPV_Egypt_Dec'21</td>\n",
              "      <td>16064</td>\n",
              "      <td>16850</td>\n",
              "      <td>28.0</td>\n",
              "      <td>17.0</td>\n",
              "      <td>50.0</td>\n",
              "      <td>NaN</td>\n",
              "      <td>NaN</td>\n",
              "      <td>1.0</td>\n",
              "      <td>...</td>\n",
              "      <td>3.0</td>\n",
              "      <td>NaN</td>\n",
              "      <td>NaN</td>\n",
              "      <td>72.30</td>\n",
              "      <td>CPLPV</td>\n",
              "      <td>Egypt</td>\n",
              "      <td>Dec'21</td>\n",
              "      <td>None</td>\n",
              "      <td>Egypt</td>\n",
              "      <td>CPLPV</td>\n",
              "    </tr>\n",
              "    <tr>\n",
              "      <th>3</th>\n",
              "      <td>31/12/2021</td>\n",
              "      <td>0016_Egypt_Remarketing_Dec'21</td>\n",
              "      <td>18664</td>\n",
              "      <td>21406</td>\n",
              "      <td>12.0</td>\n",
              "      <td>1.0</td>\n",
              "      <td>19.0</td>\n",
              "      <td>NaN</td>\n",
              "      <td>NaN</td>\n",
              "      <td>2.0</td>\n",
              "      <td>...</td>\n",
              "      <td>NaN</td>\n",
              "      <td>NaN</td>\n",
              "      <td>NaN</td>\n",
              "      <td>43.62</td>\n",
              "      <td>Egypt</td>\n",
              "      <td>Remarketing</td>\n",
              "      <td>Dec'21</td>\n",
              "      <td>None</td>\n",
              "      <td>Egypt</td>\n",
              "      <td>Remarketing</td>\n",
              "    </tr>\n",
              "    <tr>\n",
              "      <th>4</th>\n",
              "      <td>31/12/2021</td>\n",
              "      <td>0016_CPC_KSA_Dec'21</td>\n",
              "      <td>159934</td>\n",
              "      <td>166541</td>\n",
              "      <td>268.0</td>\n",
              "      <td>105.0</td>\n",
              "      <td>355.0</td>\n",
              "      <td>NaN</td>\n",
              "      <td>NaN</td>\n",
              "      <td>NaN</td>\n",
              "      <td>...</td>\n",
              "      <td>16.0</td>\n",
              "      <td>NaN</td>\n",
              "      <td>NaN</td>\n",
              "      <td>771.16</td>\n",
              "      <td>CPC</td>\n",
              "      <td>KSA</td>\n",
              "      <td>Dec'21</td>\n",
              "      <td>None</td>\n",
              "      <td>KSA</td>\n",
              "      <td>CPC</td>\n",
              "    </tr>\n",
              "  </tbody>\n",
              "</table>\n",
              "<p>5 rows × 22 columns</p>\n",
              "</div>"
            ],
            "text/plain": [
              "         Date                  Campaign name   Reach  Impressions  \\\n",
              "0  31/12/2021          0016_CPE_Egypt_Dec'21   82607       108515   \n",
              "1  31/12/2021          0016_Egypt_CPC_Dec'21   63441        68432   \n",
              "2  31/12/2021        0016_CPLPV_Egypt_Dec'21   16064        16850   \n",
              "3  31/12/2021  0016_Egypt_Remarketing_Dec'21   18664        21406   \n",
              "4  31/12/2021            0016_CPC_KSA_Dec'21  159934       166541   \n",
              "\n",
              "   Link clicks  Landing page views  Post engagement  3-second video plays  \\\n",
              "0          5.0                 NaN           3671.0                   NaN   \n",
              "1         51.0                 6.0           3490.0                3397.0   \n",
              "2         28.0                17.0             50.0                   NaN   \n",
              "3         12.0                 1.0             19.0                   NaN   \n",
              "4        268.0               105.0            355.0                   NaN   \n",
              "\n",
              "   ThruPlays  Post comments  ...  Post shares  Video plays at 50%  Leads  \\\n",
              "0        NaN           31.0  ...         20.0                 NaN    NaN   \n",
              "1      325.0            NaN  ...          NaN               565.0    NaN   \n",
              "2        NaN            1.0  ...          3.0                 NaN    NaN   \n",
              "3        NaN            2.0  ...          NaN                 NaN    NaN   \n",
              "4        NaN            NaN  ...         16.0                 NaN    NaN   \n",
              "\n",
              "   Amount Spent  Objective      Country   Date2     5 Country4   Objective1  \n",
              "0        442.86        CPE        Egypt  Dec'21  None    Egypt          CPE  \n",
              "1         94.85      Egypt          CPC  Dec'21  None    Egypt          CPC  \n",
              "2         72.30      CPLPV        Egypt  Dec'21  None    Egypt        CPLPV  \n",
              "3         43.62      Egypt  Remarketing  Dec'21  None    Egypt  Remarketing  \n",
              "4        771.16        CPC          KSA  Dec'21  None      KSA          CPC  \n",
              "\n",
              "[5 rows x 22 columns]"
            ]
          },
          "execution_count": 1268,
          "metadata": {},
          "output_type": "execute_result"
        }
      ],
      "source": [
        "data.head()"
      ]
    },
    {
      "cell_type": "code",
      "execution_count": 1269,
      "metadata": {},
      "outputs": [],
      "source": [
        "#data[\"Country3\"].replace({\"na\": data[\"Country2\"]}, inplace=True)\n",
        "#data['Country3']= data['type'].apply(lambda x: 'na' if (x == data['Country2']) else x)\n",
        "#data['Country3'].value_counts()\n",
        "\n",
        "#data.head()\n"
      ]
    },
    {
      "cell_type": "code",
      "execution_count": 1270,
      "metadata": {},
      "outputs": [],
      "source": [
        "#data[\"Country2\"].isnull().sum()\n",
        "#pd.isnull(data[\"Country2\"]).sum()"
      ]
    },
    {
      "cell_type": "code",
      "execution_count": 1271,
      "metadata": {},
      "outputs": [],
      "source": [
        "#fill nan in the country3 column with the most common value\n",
        "#data[\"Country3\"] = data[\"Country3\"].fillna(\"2\")\n",
        "#str(data[\"Country3\"])\n",
        "#data[\"Country3\"]= data[\"Country3\"].fillna(data[\"Country2\"])\n",
        "#data[\"Country2\"]= data[\"Country2\"].fillna(data[\"Country3\"])\n"
      ]
    },
    {
      "cell_type": "code",
      "execution_count": 1272,
      "metadata": {},
      "outputs": [],
      "source": [
        "#combine two columns to one column with no NAN values\n",
        "#data[\"Country3\"]= data[\"Country3\"].fillna(data[\"Country2\"])\n",
        "# remove the NAN values with blank space\n",
        "#data[\"Country2\"] = data[\"Country2\"].replace(np.nan, '1')\n",
        "#data['Country3'] = data['Country3'].replace(np.nan, '2')\n",
        "\n",
        "#data['Country3'].NAN.fill().show()\n",
        "#data.na.fill({'Country3': \"\"}).show()\n",
        "\n",
        "\n",
        "#data['Country3']. replace(np.na,'',regex=True)\n",
        "#data['Country']. replace(np. NAN,'',regex=True)\n",
        "\n",
        "#data['Country3']= data['Country3'].fillna('') + data['Country2'].fillna('')\n",
        "#data[['Country2','Country3']] = data[['Country2','Country3']]. fillna('1')\n",
        "#df1 = data['Country3'].replace(np.nan, '', regex=True)\n",
        "#data['Country3'].fillna('1', inplace=True)\n",
        "#data[\"Country4\"] =data['Country3'].fillna(data['Country3']) + data['Country2'].fillna(data['Country2'])\n",
        "#data[\"Country3\"].bfill(axis=1).iloc[:, 0]\n",
        "\n",
        "\n"
      ]
    },
    {
      "cell_type": "markdown",
      "metadata": {
        "id": "LKxD7MsXnYjV"
      },
      "source": [
        "Let's look at relationships between customer data and churn using correlation."
      ]
    },
    {
      "cell_type": "code",
      "execution_count": 1273,
      "metadata": {
        "colab": {
          "base_uri": "https://localhost:8080/",
          "height": 963
        },
        "id": "uZh4954qnm0y",
        "outputId": "bb196dc5-b447-4f63-e226-c813b31347be"
      },
      "outputs": [
        {
          "data": {
            "image/png": "[encoded data removed]",
            "text/plain": [
              "<Figure size 1440x1080 with 2 Axes>"
            ]
          },
          "metadata": {
            "needs_background": "light"
          },
          "output_type": "display_data"
        }
      ],
      "source": [
        "corr = data.corr()\n",
        "sns.heatmap(corr, xticklabels=corr.columns.values, yticklabels=corr.columns.values, annot = True, annot_kws={'size':12})\n",
        "heat_map=plt.gcf()\n",
        "heat_map.set_size_inches(20,15)\n",
        "plt.xticks(fontsize=10)\n",
        "plt.yticks(fontsize=10)\n",
        "plt.show()"
      ]
    },
    {
      "cell_type": "markdown",
      "metadata": {
        "id": "Xu1DiQrfocI2"
      },
      "source": [
        "Our goal is to avoid multicollinearity by dropping features that are closely correlated with each other. For example here it is TotalCharges and MonthlyCharges. So we will drop TotalCharges."
      ]
    },
    {
      "cell_type": "code",
      "execution_count": 1274,
      "metadata": {
        "colab": {
          "base_uri": "https://localhost:8080/"
        },
        "id": "PV1tSYT6o7DS",
        "outputId": "f09ac71f-1cf5-47f4-859e-b2a04b110b35"
      },
      "outputs": [
        {
          "data": {
            "text/plain": [
              "Leads                   1713\n",
              "ThruPlays               1290\n",
              "Video plays at 50%      1290\n",
              "3-second video plays    1289\n",
              "Post shares             1192\n",
              "5                       1106\n",
              "Post saves               876\n",
              "Post comments            788\n",
              "Landing page views       317\n",
              "Post reactions           178\n",
              "Post engagement          144\n",
              "Link clicks               21\n",
              "Objective                  0\n",
              "Country4                   0\n",
              "Date2                      0\n",
              "Country                    0\n",
              "Date                       0\n",
              "Amount Spent               0\n",
              "Campaign name              0\n",
              "Impressions                0\n",
              "Reach                      0\n",
              "Objective1                 0\n",
              "dtype: int64"
            ]
          },
          "execution_count": 1274,
          "metadata": {},
          "output_type": "execute_result"
        }
      ],
      "source": [
        "# Run info again to make sure TotalCharges has been dropped (popped off).\n",
        "data.isnull().sum().sort_values(ascending=False)\n"
      ]
    },
    {
      "cell_type": "markdown",
      "metadata": {
        "id": "x2_BIVBZAOMs"
      },
      "source": [
        "## 5: Explore The Data "
      ]
    },
    {
      "cell_type": "code",
      "execution_count": 1275,
      "metadata": {
        "colab": {
          "base_uri": "https://localhost:8080/"
        },
        "id": "JAyZt0XcANqa",
        "outputId": "c78a1108-4ea6-405b-ffba-3501378f9df7"
      },
      "outputs": [
        {
          "name": "stdout",
          "output_type": "stream",
          "text": [
            "2342\n"
          ]
        }
      ],
      "source": [
        "# Explore data points we have.\n",
        "print(len(data['Amount Spent']))"
      ]
    },
    {
      "cell_type": "code",
      "execution_count": 1276,
      "metadata": {
        "colab": {
          "base_uri": "https://localhost:8080/"
        },
        "id": "S0WP1moGfjhg",
        "outputId": "82249313-2369-4c0a-9a16-d95f57f530f1"
      },
      "outputs": [
        {
          "data": {
            "text/plain": [
              "L              678\n",
              "Egypt          460\n",
              "CPMR           385\n",
              "CPLPV          294\n",
              "CPC            132\n",
              "CPE            125\n",
              "CPA            120\n",
              "Remarketing     74\n",
              "PL              38\n",
              "Awareness       20\n",
              "CPV             16\n",
              "Name: Objective, dtype: int64"
            ]
          },
          "execution_count": 1276,
          "metadata": {},
          "output_type": "execute_result"
        }
      ],
      "source": [
        "# Explore how many customers in this dataset have churned. Is this dataset 50% as the team suggests is the overall customer churn rate?  \n",
        "data['Objective'].value_counts()\n",
        "# We see this dataset actually has less than the overall 50% churn rate of the entire company reported data (it's actually 26.54% that have churned."
      ]
    },
    {
      "cell_type": "code",
      "execution_count": 1277,
      "metadata": {
        "colab": {
          "base_uri": "https://localhost:8080/",
          "height": 335
        },
        "id": "_X08xUR8FRGH",
        "outputId": "d64092db-c856-4124-8cca-5d13172cfe1b"
      },
      "outputs": [
        {
          "data": {
            "image/png": "[encoded data removed]",
            "text/plain": [
              "<Figure size 432x288 with 1 Axes>"
            ]
          },
          "metadata": {
            "needs_background": "light"
          },
          "output_type": "display_data"
        }
      ],
      "source": [
        "# This creates a bar graph of churn (Yes vs. No) so we can check how the data is balanced.\n",
        "data['Objective'].value_counts().plot(kind = 'bar', title = 'Bar Graph of Non-Churners vs Churners by Count (Churn is a 1)', color = 'blue', align = 'center')\n",
        "plt.show()\n",
        "# The dataset does not have a huge imbalance which is good news! But also we clearly see it does not have the 50% as we would have thought. "
      ]
    },
    {
      "cell_type": "code",
      "execution_count": 1278,
      "metadata": {
        "colab": {
          "base_uri": "https://localhost:8080/",
          "height": 335
        },
        "id": "dooQL0KODOWz",
        "outputId": "fdf38458-3dd1-4b59-eba3-bbe9860b3e6b"
      },
      "outputs": [
        {
          "data": {
            "image/png": "[encoded data removed]",
            "text/plain": [
              "<Figure size 432x288 with 1 Axes>"
            ]
          },
          "metadata": {
            "needs_background": "light"
          },
          "output_type": "display_data"
        }
      ],
      "source": [
        "# This creates a bar graph of churn (Yes vs. No) so we can check how the data is balanced.\n",
        "data['Country4'].value_counts().plot(kind = 'bar', title = 'Bar Graph of Non-Churners vs Churners by Count (Churn is a 1)', color = 'blue', align = 'center')\n",
        "plt.show()\n",
        "# The dataset does not have a huge imbalance which is good news! But also we clearly see it does not have the 50% as we would have thought. "
      ]
    },
    {
      "cell_type": "code",
      "execution_count": 1279,
      "metadata": {
        "colab": {
          "base_uri": "https://localhost:8080/",
          "height": 364
        },
        "id": "5ThxClWpDXt5",
        "outputId": "1d8760a7-a4ea-4712-c652-c8b317f3c735"
      },
      "outputs": [
        {
          "data": {
            "image/png": "[encoded data removed]",
            "text/plain": [
              "<Figure size 432x288 with 1 Axes>"
            ]
          },
          "metadata": {
            "needs_background": "light"
          },
          "output_type": "display_data"
        }
      ],
      "source": [
        "# This creates a bar graph of churn (Yes vs. No) so we can check how the data is balanced.\n",
        "data['Date2'].value_counts().plot(kind = 'bar', title = 'Bar Graph of Non-Churners vs Churners by Count (Churn is a 1)', color = 'blue', align = 'center')\n",
        "plt.show()\n",
        "# The dataset does not have a huge imbalance which is good news! But also we clearly see it does not have the 50% as we would have thought. "
      ]
    },
    {
      "cell_type": "code",
      "execution_count": 1280,
      "metadata": {
        "colab": {
          "base_uri": "https://localhost:8080/",
          "height": 360
        },
        "id": "9DQ5OvZcDecz",
        "outputId": "09434204-6e8a-4669-fef1-24081fb9ddb3"
      },
      "outputs": [
        {
          "data": {
            "image/png": "[encoded data removed]",
            "text/plain": [
              "<Figure size 432x288 with 1 Axes>"
            ]
          },
          "metadata": {
            "needs_background": "light"
          },
          "output_type": "display_data"
        }
      ],
      "source": [
        "# This creates a bar graph of churn (Yes vs. No) so we can check how the data is balanced.\n",
        "data['5'].value_counts().plot(kind = 'bar', title = 'Bar Graph of Non-Churners vs Churners by Count (Churn is a 1)', color = 'blue', align = 'center')\n",
        "plt.show()\n",
        "# The dataset does not have a huge imbalance which is good news! But also we clearly see it does not have the 50% as we would have thought. "
      ]
    },
    {
      "cell_type": "code",
      "execution_count": 1281,
      "metadata": {},
      "outputs": [
        {
          "data": {
            "text/html": [
              "<div>\n",
              "<style scoped>\n",
              "    .dataframe tbody tr th:only-of-type {\n",
              "        vertical-align: middle;\n",
              "    }\n",
              "\n",
              "    .dataframe tbody tr th {\n",
              "        vertical-align: top;\n",
              "    }\n",
              "\n",
              "    .dataframe thead th {\n",
              "        text-align: right;\n",
              "    }\n",
              "</style>\n",
              "<table border=\"1\" class=\"dataframe\">\n",
              "  <thead>\n",
              "    <tr style=\"text-align: right;\">\n",
              "      <th></th>\n",
              "      <th>Date</th>\n",
              "      <th>Campaign name</th>\n",
              "      <th>Reach</th>\n",
              "      <th>Impressions</th>\n",
              "      <th>Link clicks</th>\n",
              "      <th>Landing page views</th>\n",
              "      <th>Post engagement</th>\n",
              "      <th>3-second video plays</th>\n",
              "      <th>ThruPlays</th>\n",
              "      <th>Post comments</th>\n",
              "      <th>...</th>\n",
              "      <th>Post shares</th>\n",
              "      <th>Video plays at 50%</th>\n",
              "      <th>Leads</th>\n",
              "      <th>Amount Spent</th>\n",
              "      <th>Objective</th>\n",
              "      <th>Country</th>\n",
              "      <th>Date2</th>\n",
              "      <th>5</th>\n",
              "      <th>Country4</th>\n",
              "      <th>Objective1</th>\n",
              "    </tr>\n",
              "  </thead>\n",
              "  <tbody>\n",
              "    <tr>\n",
              "      <th>0</th>\n",
              "      <td>31/12/2021</td>\n",
              "      <td>0016_CPE_Egypt_Dec'21</td>\n",
              "      <td>82607</td>\n",
              "      <td>108515</td>\n",
              "      <td>5.0</td>\n",
              "      <td>NaN</td>\n",
              "      <td>3671.0</td>\n",
              "      <td>NaN</td>\n",
              "      <td>NaN</td>\n",
              "      <td>31.0</td>\n",
              "      <td>...</td>\n",
              "      <td>20.0</td>\n",
              "      <td>NaN</td>\n",
              "      <td>NaN</td>\n",
              "      <td>442.86</td>\n",
              "      <td>CPE</td>\n",
              "      <td>Egypt</td>\n",
              "      <td>Dec'21</td>\n",
              "      <td>None</td>\n",
              "      <td>Egypt</td>\n",
              "      <td>CPE</td>\n",
              "    </tr>\n",
              "    <tr>\n",
              "      <th>1</th>\n",
              "      <td>31/12/2021</td>\n",
              "      <td>0016_Egypt_CPC_Dec'21</td>\n",
              "      <td>63441</td>\n",
              "      <td>68432</td>\n",
              "      <td>51.0</td>\n",
              "      <td>6.0</td>\n",
              "      <td>3490.0</td>\n",
              "      <td>3397.0</td>\n",
              "      <td>325.0</td>\n",
              "      <td>NaN</td>\n",
              "      <td>...</td>\n",
              "      <td>NaN</td>\n",
              "      <td>565.0</td>\n",
              "      <td>NaN</td>\n",
              "      <td>94.85</td>\n",
              "      <td>Egypt</td>\n",
              "      <td>CPC</td>\n",
              "      <td>Dec'21</td>\n",
              "      <td>None</td>\n",
              "      <td>Egypt</td>\n",
              "      <td>CPC</td>\n",
              "    </tr>\n",
              "    <tr>\n",
              "      <th>2</th>\n",
              "      <td>31/12/2021</td>\n",
              "      <td>0016_CPLPV_Egypt_Dec'21</td>\n",
              "      <td>16064</td>\n",
              "      <td>16850</td>\n",
              "      <td>28.0</td>\n",
              "      <td>17.0</td>\n",
              "      <td>50.0</td>\n",
              "      <td>NaN</td>\n",
              "      <td>NaN</td>\n",
              "      <td>1.0</td>\n",
              "      <td>...</td>\n",
              "      <td>3.0</td>\n",
              "      <td>NaN</td>\n",
              "      <td>NaN</td>\n",
              "      <td>72.30</td>\n",
              "      <td>CPLPV</td>\n",
              "      <td>Egypt</td>\n",
              "      <td>Dec'21</td>\n",
              "      <td>None</td>\n",
              "      <td>Egypt</td>\n",
              "      <td>CPLPV</td>\n",
              "    </tr>\n",
              "    <tr>\n",
              "      <th>3</th>\n",
              "      <td>31/12/2021</td>\n",
              "      <td>0016_Egypt_Remarketing_Dec'21</td>\n",
              "      <td>18664</td>\n",
              "      <td>21406</td>\n",
              "      <td>12.0</td>\n",
              "      <td>1.0</td>\n",
              "      <td>19.0</td>\n",
              "      <td>NaN</td>\n",
              "      <td>NaN</td>\n",
              "      <td>2.0</td>\n",
              "      <td>...</td>\n",
              "      <td>NaN</td>\n",
              "      <td>NaN</td>\n",
              "      <td>NaN</td>\n",
              "      <td>43.62</td>\n",
              "      <td>Egypt</td>\n",
              "      <td>Remarketing</td>\n",
              "      <td>Dec'21</td>\n",
              "      <td>None</td>\n",
              "      <td>Egypt</td>\n",
              "      <td>Remarketing</td>\n",
              "    </tr>\n",
              "    <tr>\n",
              "      <th>4</th>\n",
              "      <td>31/12/2021</td>\n",
              "      <td>0016_CPC_KSA_Dec'21</td>\n",
              "      <td>159934</td>\n",
              "      <td>166541</td>\n",
              "      <td>268.0</td>\n",
              "      <td>105.0</td>\n",
              "      <td>355.0</td>\n",
              "      <td>NaN</td>\n",
              "      <td>NaN</td>\n",
              "      <td>NaN</td>\n",
              "      <td>...</td>\n",
              "      <td>16.0</td>\n",
              "      <td>NaN</td>\n",
              "      <td>NaN</td>\n",
              "      <td>771.16</td>\n",
              "      <td>CPC</td>\n",
              "      <td>KSA</td>\n",
              "      <td>Dec'21</td>\n",
              "      <td>None</td>\n",
              "      <td>KSA</td>\n",
              "      <td>CPC</td>\n",
              "    </tr>\n",
              "  </tbody>\n",
              "</table>\n",
              "<p>5 rows × 22 columns</p>\n",
              "</div>"
            ],
            "text/plain": [
              "         Date                  Campaign name   Reach  Impressions  \\\n",
              "0  31/12/2021          0016_CPE_Egypt_Dec'21   82607       108515   \n",
              "1  31/12/2021          0016_Egypt_CPC_Dec'21   63441        68432   \n",
              "2  31/12/2021        0016_CPLPV_Egypt_Dec'21   16064        16850   \n",
              "3  31/12/2021  0016_Egypt_Remarketing_Dec'21   18664        21406   \n",
              "4  31/12/2021            0016_CPC_KSA_Dec'21  159934       166541   \n",
              "\n",
              "   Link clicks  Landing page views  Post engagement  3-second video plays  \\\n",
              "0          5.0                 NaN           3671.0                   NaN   \n",
              "1         51.0                 6.0           3490.0                3397.0   \n",
              "2         28.0                17.0             50.0                   NaN   \n",
              "3         12.0                 1.0             19.0                   NaN   \n",
              "4        268.0               105.0            355.0                   NaN   \n",
              "\n",
              "   ThruPlays  Post comments  ...  Post shares  Video plays at 50%  Leads  \\\n",
              "0        NaN           31.0  ...         20.0                 NaN    NaN   \n",
              "1      325.0            NaN  ...          NaN               565.0    NaN   \n",
              "2        NaN            1.0  ...          3.0                 NaN    NaN   \n",
              "3        NaN            2.0  ...          NaN                 NaN    NaN   \n",
              "4        NaN            NaN  ...         16.0                 NaN    NaN   \n",
              "\n",
              "   Amount Spent  Objective      Country   Date2     5 Country4   Objective1  \n",
              "0        442.86        CPE        Egypt  Dec'21  None    Egypt          CPE  \n",
              "1         94.85      Egypt          CPC  Dec'21  None    Egypt          CPC  \n",
              "2         72.30      CPLPV        Egypt  Dec'21  None    Egypt        CPLPV  \n",
              "3         43.62      Egypt  Remarketing  Dec'21  None    Egypt  Remarketing  \n",
              "4        771.16        CPC          KSA  Dec'21  None      KSA          CPC  \n",
              "\n",
              "[5 rows x 22 columns]"
            ]
          },
          "execution_count": 1281,
          "metadata": {},
          "output_type": "execute_result"
        }
      ],
      "source": [
        "data.head()"
      ]
    },
    {
      "cell_type": "markdown",
      "metadata": {
        "id": "_KTJ2EeUHVGM"
      },
      "source": [
        "Explore some contingencies on how some features relate to churn."
      ]
    },
    {
      "cell_type": "code",
      "execution_count": 1282,
      "metadata": {
        "colab": {
          "base_uri": "https://localhost:8080/",
          "height": 138
        },
        "id": "QO8tgNqvHUve",
        "outputId": "78e3f66a-ceb3-486a-dbb2-6556ab89ef20"
      },
      "outputs": [
        {
          "data": {
            "text/html": [
              "<div>\n",
              "<style scoped>\n",
              "    .dataframe tbody tr th:only-of-type {\n",
              "        vertical-align: middle;\n",
              "    }\n",
              "\n",
              "    .dataframe tbody tr th {\n",
              "        vertical-align: top;\n",
              "    }\n",
              "\n",
              "    .dataframe thead th {\n",
              "        text-align: right;\n",
              "    }\n",
              "</style>\n",
              "<table border=\"1\" class=\"dataframe\">\n",
              "  <thead>\n",
              "    <tr style=\"text-align: right;\">\n",
              "      <th>Objective1</th>\n",
              "      <th>CPA</th>\n",
              "      <th>CPC</th>\n",
              "      <th>CPE</th>\n",
              "      <th>CPL</th>\n",
              "      <th>CPLPV</th>\n",
              "      <th>CPMR</th>\n",
              "      <th>CPV</th>\n",
              "      <th>Remarketing</th>\n",
              "    </tr>\n",
              "    <tr>\n",
              "      <th>Country4</th>\n",
              "      <th></th>\n",
              "      <th></th>\n",
              "      <th></th>\n",
              "      <th></th>\n",
              "      <th></th>\n",
              "      <th></th>\n",
              "      <th></th>\n",
              "      <th></th>\n",
              "    </tr>\n",
              "  </thead>\n",
              "  <tbody>\n",
              "    <tr>\n",
              "      <th>Egypt</th>\n",
              "      <td>246</td>\n",
              "      <td>306</td>\n",
              "      <td>293</td>\n",
              "      <td>200</td>\n",
              "      <td>132</td>\n",
              "      <td>316</td>\n",
              "      <td>0</td>\n",
              "      <td>123</td>\n",
              "    </tr>\n",
              "    <tr>\n",
              "      <th>KSA</th>\n",
              "      <td>0</td>\n",
              "      <td>94</td>\n",
              "      <td>0</td>\n",
              "      <td>0</td>\n",
              "      <td>48</td>\n",
              "      <td>138</td>\n",
              "      <td>16</td>\n",
              "      <td>0</td>\n",
              "    </tr>\n",
              "    <tr>\n",
              "      <th>Qatar</th>\n",
              "      <td>96</td>\n",
              "      <td>0</td>\n",
              "      <td>0</td>\n",
              "      <td>0</td>\n",
              "      <td>66</td>\n",
              "      <td>92</td>\n",
              "      <td>0</td>\n",
              "      <td>43</td>\n",
              "    </tr>\n",
              "    <tr>\n",
              "      <th>UAE</th>\n",
              "      <td>24</td>\n",
              "      <td>20</td>\n",
              "      <td>0</td>\n",
              "      <td>0</td>\n",
              "      <td>24</td>\n",
              "      <td>7</td>\n",
              "      <td>0</td>\n",
              "      <td>8</td>\n",
              "    </tr>\n",
              "    <tr>\n",
              "      <th>na</th>\n",
              "      <td>0</td>\n",
              "      <td>26</td>\n",
              "      <td>0</td>\n",
              "      <td>0</td>\n",
              "      <td>24</td>\n",
              "      <td>0</td>\n",
              "      <td>0</td>\n",
              "      <td>0</td>\n",
              "    </tr>\n",
              "  </tbody>\n",
              "</table>\n",
              "</div>"
            ],
            "text/plain": [
              "Objective1  CPA  CPC  CPE  CPL  CPLPV  CPMR  CPV  Remarketing\n",
              "Country4                                                     \n",
              "Egypt       246  306  293  200    132   316    0          123\n",
              "KSA           0   94    0    0     48   138   16            0\n",
              "Qatar        96    0    0    0     66    92    0           43\n",
              "UAE          24   20    0    0     24     7    0            8\n",
              "na            0   26    0    0     24     0    0            0"
            ]
          },
          "metadata": {},
          "output_type": "display_data"
        }
      ],
      "source": [
        "# Creates initial contingency table between Churn and gender. Male is 0, Female is 1.\n",
        "Country_objective_contingency = pd.crosstab(data[\"Country4\"], data[\"Objective1\"])\n",
        "display(Country_objective_contingency)\n",
        "# Male and females churn at about the same rate, so not much to see here. Let's keep moving."
      ]
    },
    {
      "cell_type": "code",
      "execution_count": 1283,
      "metadata": {
        "colab": {
          "base_uri": "https://localhost:8080/",
          "height": 708
        },
        "id": "TeatExD7H7fP",
        "outputId": "3dbe58d9-ef7b-4ce9-d3c0-c84d3c5c729c"
      },
      "outputs": [
        {
          "data": {
            "text/plain": [
              "<AxesSubplot:>"
            ]
          },
          "execution_count": 1283,
          "metadata": {},
          "output_type": "execute_result"
        },
        {
          "data": {
            "image/png": "[encoded data removed]",
            "text/plain": [
              "<Figure size 1800x720 with 2 Axes>"
            ]
          },
          "metadata": {
            "needs_background": "light"
          },
          "output_type": "display_data"
        }
      ],
      "source": [
        "# Check the data health. The sections should all be completely black indicating the data is complete.\n",
        "ms.matrix(data)\n",
        "# It looks good."
      ]
    },
    {
      "cell_type": "code",
      "execution_count": 1284,
      "metadata": {
        "colab": {
          "base_uri": "https://localhost:8080/",
          "height": 296
        },
        "id": "A8xHAhIJecrR",
        "outputId": "698f8d9c-e664-4c2b-d651-c299a47fa6b6"
      },
      "outputs": [
        {
          "data": {
            "image/png": "[encoded data removed]",
            "text/plain": [
              "<Figure size 360x360 with 1 Axes>"
            ]
          },
          "metadata": {
            "needs_background": "light"
          },
          "output_type": "display_data"
        }
      ],
      "source": [
        "# Churn rate relative to tenure.\n",
        "# Stacked bar of tenure and churn.\n",
        "sns.relplot(x=\"Amount Spent\", y=\"Reach\", data=data, kind='scatter');\n",
        "\n",
        "plt.ylabel('Count')\n",
        "plt.xlabel('Tenure of Subscription')\n",
        "plt.title('Churn Rate Relative to Tenure of Subscription (Churned is a 1)')\n",
        "plt.show()\n",
        "# We can clearly see the longer a customer stays as a subscriber, the less they are likely to churn!"
      ]
    },
    {
      "cell_type": "code",
      "execution_count": 1285,
      "metadata": {},
      "outputs": [
        {
          "data": {
            "image/png": "[encoded data removed]",
            "text/plain": [
              "<Figure size 360x360 with 1 Axes>"
            ]
          },
          "metadata": {
            "needs_background": "light"
          },
          "output_type": "display_data"
        }
      ],
      "source": [
        "sns.relplot(x=\"Amount Spent\", y=\"Impressions\", data=data, kind='scatter');\n"
      ]
    },
    {
      "cell_type": "code",
      "execution_count": 1286,
      "metadata": {},
      "outputs": [
        {
          "data": {
            "image/png": "[encoded data removed]",
            "text/plain": [
              "<Figure size 360x360 with 1 Axes>"
            ]
          },
          "metadata": {
            "needs_background": "light"
          },
          "output_type": "display_data"
        }
      ],
      "source": [
        "sns.relplot(x=\"Amount Spent\", y=\"Link clicks\", data=data, kind='scatter');"
      ]
    },
    {
      "cell_type": "code",
      "execution_count": 1287,
      "metadata": {
        "colab": {
          "base_uri": "https://localhost:8080/",
          "height": 308
        },
        "id": "onWnkXWVbFdA",
        "outputId": "929df6a5-c006-4245-de23-02a804344d89"
      },
      "outputs": [
        {
          "data": {
            "image/png": "[encoded data removed]",
            "text/plain": [
              "<Figure size 360x360 with 1 Axes>"
            ]
          },
          "metadata": {
            "needs_background": "light"
          },
          "output_type": "display_data"
        }
      ],
      "source": [
        "sns.relplot(x='Date', y='Amount Spent', data=data, kind='line');\n"
      ]
    },
    {
      "cell_type": "code",
      "execution_count": 1288,
      "metadata": {
        "colab": {
          "base_uri": "https://localhost:8080/",
          "height": 279
        },
        "id": "IJ2CT6K0dNJq",
        "outputId": "f1b6dac2-5d71-4fb5-8589-d14aa66d0415"
      },
      "outputs": [
        {
          "data": {
            "image/png": "[encoded data removed]",
            "text/plain": [
              "<Figure size 432x288 with 1 Axes>"
            ]
          },
          "metadata": {
            "needs_background": "light"
          },
          "output_type": "display_data"
        }
      ],
      "source": [
        "# Plot the distribution of observations for tenure.\n",
        "sns.distplot(data['Amount Spent']);\n",
        "# It shows the max tenure is 70. This must be when the data history ends. We'll account for this in our analysis."
      ]
    },
    {
      "cell_type": "code",
      "execution_count": 1289,
      "metadata": {
        "colab": {
          "base_uri": "https://localhost:8080/",
          "height": 279
        },
        "id": "_UTsEzPeiQUt",
        "outputId": "24977427-0405-44aa-a4b4-e7c1da00c2e4"
      },
      "outputs": [
        {
          "data": {
            "text/plain": [
              "([<matplotlib.patches.Wedge at 0x2531c16e770>,\n",
              "  <matplotlib.patches.Wedge at 0x2531c16c190>,\n",
              "  <matplotlib.patches.Wedge at 0x2531c16cd00>,\n",
              "  <matplotlib.patches.Wedge at 0x2531c16d3f0>,\n",
              "  <matplotlib.patches.Wedge at 0x2531c16ff10>,\n",
              "  <matplotlib.patches.Wedge at 0x2531c16d900>,\n",
              "  <matplotlib.patches.Wedge at 0x2531c16dde0>,\n",
              "  <matplotlib.patches.Wedge at 0x2531c16c160>],\n",
              " [Text(0.8109773930870225, 0.7431794318344508, 'CPMR'),\n",
              "  Text(-0.5380304048719747, 0.9594390462313378, 'CPC'),\n",
              "  Text(-1.0995210367719648, -0.03245750600252615, 'CPA'),\n",
              "  Text(-0.6709050661303346, -0.8717146277542046, 'CPLPV'),\n",
              "  Text(0.14418834176087725, -1.0905089280240894, 'CPE'),\n",
              "  Text(0.7835348110268415, -0.7720577698003771, 'CPL'),\n",
              "  Text(1.05826909732615, -0.30011084226414775, 'Remarketing'),\n",
              "  Text(1.0997466555890063, -0.02360706506103553, 'CPV')])"
            ]
          },
          "execution_count": 1289,
          "metadata": {},
          "output_type": "execute_result"
        },
        {
          "data": {
            "image/png": "[encoded data removed]",
            "text/plain": [
              "<Figure size 432x288 with 1 Axes>"
            ]
          },
          "metadata": {},
          "output_type": "display_data"
        }
      ],
      "source": [
        "# Does how a customer pays have to do with their churn?\n",
        "#pie chart of churn vs. non-churn\n",
        "plt.pie(data['Objective1'].value_counts(), labels=data['Objective1'].value_counts().index)\n",
        "\n",
        "#sns.countplot(x='Amount Spent', hue='Objective', data=data, ax=axes[0])\n",
        "              \n",
        "#sns.countplot(x='Amount Spent', hue='Country', data=data, ax=axes[1]);\n",
        "# We can see that customers that use paperless billing are much more likely to churn (0 = don't have paperless billing). That seems backwards I would go check that data with the team.\n",
        "# We can see that customers that have the 0 payment method (electronic check) are much more likely to churn. Let's discourage that option."
      ]
    },
    {
      "cell_type": "code",
      "execution_count": 1290,
      "metadata": {
        "colab": {
          "base_uri": "https://localhost:8080/",
          "height": 279
        },
        "id": "Jd4Fpqwzlebv",
        "outputId": "25fb6f2d-7150-40be-ae97-5dc62ade90ad"
      },
      "outputs": [
        {
          "data": {
            "text/plain": [
              "([<matplotlib.patches.Wedge at 0x2531c06a560>,\n",
              "  <matplotlib.patches.Wedge at 0x2531c069240>,\n",
              "  <matplotlib.patches.Wedge at 0x2531c068a30>,\n",
              "  <matplotlib.patches.Wedge at 0x2531c068670>,\n",
              "  <matplotlib.patches.Wedge at 0x2531c0689a0>],\n",
              " [Text(-0.6183160702412895, 0.909772079853723, 'Egypt'),\n",
              "  Text(0.023606970139518745, -1.099746657626579, 'Qatar'),\n",
              "  Text(0.8019462220247519, -0.7529158365848254, 'KSA'),\n",
              "  Text(1.067023147876786, -0.2673230291148048, 'UAE'),\n",
              "  Text(1.0975267555562327, -0.07372259381091802, 'na')])"
            ]
          },
          "execution_count": 1290,
          "metadata": {},
          "output_type": "execute_result"
        },
        {
          "data": {
            "image/png": "[encoded data removed]",
            "text/plain": [
              "<Figure size 720x288 with 1 Axes>"
            ]
          },
          "metadata": {},
          "output_type": "display_data"
        }
      ],
      "source": [
        "# See if the other products they have from this company has to do with their churn.\n",
        "_, axes = plt.subplots(1, sharey=True, figsize=(10, 4)) \n",
        "plt.pie(data['Country4'].value_counts(), labels=data['Country4'].value_counts().index)\n",
        "# If they don't have Phone Service, they are more likely to churn.\n",
        "# If they don't have Internet Service, they are more likely to churn. Those customers with the highest Internet Service are least likely to churn.\n",
        "# Conclusion: This makes sense. Customers with other products from the company, and premium products, churn less.\n",
        "# Offer customers these additional products, perhaps even at a deep discount, so they take them and are less likely to churn. "
      ]
    },
    {
      "cell_type": "code",
      "execution_count": 1291,
      "metadata": {
        "id": "OduTMX_ay0py"
      },
      "outputs": [
        {
          "data": {
            "text/plain": [
              "<AxesSubplot:>"
            ]
          },
          "execution_count": 1291,
          "metadata": {},
          "output_type": "execute_result"
        },
        {
          "data": {
            "image/png": "[encoded data removed]",
            "text/plain": [
              "<Figure size 432x288 with 1 Axes>"
            ]
          },
          "metadata": {
            "needs_background": "light"
          },
          "output_type": "display_data"
        }
      ],
      "source": [
        "data[\"Amount Spent\"].hist()"
      ]
    },
    {
      "cell_type": "code",
      "execution_count": 1292,
      "metadata": {},
      "outputs": [
        {
          "data": {
            "text/html": [
              "<div>\n",
              "<style scoped>\n",
              "    .dataframe tbody tr th:only-of-type {\n",
              "        vertical-align: middle;\n",
              "    }\n",
              "\n",
              "    .dataframe tbody tr th {\n",
              "        vertical-align: top;\n",
              "    }\n",
              "\n",
              "    .dataframe thead th {\n",
              "        text-align: right;\n",
              "    }\n",
              "</style>\n",
              "<table border=\"1\" class=\"dataframe\">\n",
              "  <thead>\n",
              "    <tr style=\"text-align: right;\">\n",
              "      <th></th>\n",
              "      <th>Date</th>\n",
              "      <th>Campaign name</th>\n",
              "      <th>Reach</th>\n",
              "      <th>Impressions</th>\n",
              "      <th>Link clicks</th>\n",
              "      <th>Landing page views</th>\n",
              "      <th>Post engagement</th>\n",
              "      <th>3-second video plays</th>\n",
              "      <th>ThruPlays</th>\n",
              "      <th>Post comments</th>\n",
              "      <th>...</th>\n",
              "      <th>Post shares</th>\n",
              "      <th>Video plays at 50%</th>\n",
              "      <th>Leads</th>\n",
              "      <th>Amount Spent</th>\n",
              "      <th>Objective</th>\n",
              "      <th>Country</th>\n",
              "      <th>Date2</th>\n",
              "      <th>5</th>\n",
              "      <th>Country4</th>\n",
              "      <th>Objective1</th>\n",
              "    </tr>\n",
              "  </thead>\n",
              "  <tbody>\n",
              "    <tr>\n",
              "      <th>0</th>\n",
              "      <td>31/12/2021</td>\n",
              "      <td>0016_CPE_Egypt_Dec'21</td>\n",
              "      <td>82607</td>\n",
              "      <td>108515</td>\n",
              "      <td>5.0</td>\n",
              "      <td>NaN</td>\n",
              "      <td>3671.0</td>\n",
              "      <td>NaN</td>\n",
              "      <td>NaN</td>\n",
              "      <td>31.0</td>\n",
              "      <td>...</td>\n",
              "      <td>20.0</td>\n",
              "      <td>NaN</td>\n",
              "      <td>NaN</td>\n",
              "      <td>442.86</td>\n",
              "      <td>CPE</td>\n",
              "      <td>Egypt</td>\n",
              "      <td>Dec'21</td>\n",
              "      <td>None</td>\n",
              "      <td>Egypt</td>\n",
              "      <td>CPE</td>\n",
              "    </tr>\n",
              "    <tr>\n",
              "      <th>1</th>\n",
              "      <td>31/12/2021</td>\n",
              "      <td>0016_Egypt_CPC_Dec'21</td>\n",
              "      <td>63441</td>\n",
              "      <td>68432</td>\n",
              "      <td>51.0</td>\n",
              "      <td>6.0</td>\n",
              "      <td>3490.0</td>\n",
              "      <td>3397.0</td>\n",
              "      <td>325.0</td>\n",
              "      <td>NaN</td>\n",
              "      <td>...</td>\n",
              "      <td>NaN</td>\n",
              "      <td>565.0</td>\n",
              "      <td>NaN</td>\n",
              "      <td>94.85</td>\n",
              "      <td>Egypt</td>\n",
              "      <td>CPC</td>\n",
              "      <td>Dec'21</td>\n",
              "      <td>None</td>\n",
              "      <td>Egypt</td>\n",
              "      <td>CPC</td>\n",
              "    </tr>\n",
              "    <tr>\n",
              "      <th>2</th>\n",
              "      <td>31/12/2021</td>\n",
              "      <td>0016_CPLPV_Egypt_Dec'21</td>\n",
              "      <td>16064</td>\n",
              "      <td>16850</td>\n",
              "      <td>28.0</td>\n",
              "      <td>17.0</td>\n",
              "      <td>50.0</td>\n",
              "      <td>NaN</td>\n",
              "      <td>NaN</td>\n",
              "      <td>1.0</td>\n",
              "      <td>...</td>\n",
              "      <td>3.0</td>\n",
              "      <td>NaN</td>\n",
              "      <td>NaN</td>\n",
              "      <td>72.30</td>\n",
              "      <td>CPLPV</td>\n",
              "      <td>Egypt</td>\n",
              "      <td>Dec'21</td>\n",
              "      <td>None</td>\n",
              "      <td>Egypt</td>\n",
              "      <td>CPLPV</td>\n",
              "    </tr>\n",
              "    <tr>\n",
              "      <th>3</th>\n",
              "      <td>31/12/2021</td>\n",
              "      <td>0016_Egypt_Remarketing_Dec'21</td>\n",
              "      <td>18664</td>\n",
              "      <td>21406</td>\n",
              "      <td>12.0</td>\n",
              "      <td>1.0</td>\n",
              "      <td>19.0</td>\n",
              "      <td>NaN</td>\n",
              "      <td>NaN</td>\n",
              "      <td>2.0</td>\n",
              "      <td>...</td>\n",
              "      <td>NaN</td>\n",
              "      <td>NaN</td>\n",
              "      <td>NaN</td>\n",
              "      <td>43.62</td>\n",
              "      <td>Egypt</td>\n",
              "      <td>Remarketing</td>\n",
              "      <td>Dec'21</td>\n",
              "      <td>None</td>\n",
              "      <td>Egypt</td>\n",
              "      <td>Remarketing</td>\n",
              "    </tr>\n",
              "    <tr>\n",
              "      <th>4</th>\n",
              "      <td>31/12/2021</td>\n",
              "      <td>0016_CPC_KSA_Dec'21</td>\n",
              "      <td>159934</td>\n",
              "      <td>166541</td>\n",
              "      <td>268.0</td>\n",
              "      <td>105.0</td>\n",
              "      <td>355.0</td>\n",
              "      <td>NaN</td>\n",
              "      <td>NaN</td>\n",
              "      <td>NaN</td>\n",
              "      <td>...</td>\n",
              "      <td>16.0</td>\n",
              "      <td>NaN</td>\n",
              "      <td>NaN</td>\n",
              "      <td>771.16</td>\n",
              "      <td>CPC</td>\n",
              "      <td>KSA</td>\n",
              "      <td>Dec'21</td>\n",
              "      <td>None</td>\n",
              "      <td>KSA</td>\n",
              "      <td>CPC</td>\n",
              "    </tr>\n",
              "  </tbody>\n",
              "</table>\n",
              "<p>5 rows × 22 columns</p>\n",
              "</div>"
            ],
            "text/plain": [
              "         Date                  Campaign name   Reach  Impressions  \\\n",
              "0  31/12/2021          0016_CPE_Egypt_Dec'21   82607       108515   \n",
              "1  31/12/2021          0016_Egypt_CPC_Dec'21   63441        68432   \n",
              "2  31/12/2021        0016_CPLPV_Egypt_Dec'21   16064        16850   \n",
              "3  31/12/2021  0016_Egypt_Remarketing_Dec'21   18664        21406   \n",
              "4  31/12/2021            0016_CPC_KSA_Dec'21  159934       166541   \n",
              "\n",
              "   Link clicks  Landing page views  Post engagement  3-second video plays  \\\n",
              "0          5.0                 NaN           3671.0                   NaN   \n",
              "1         51.0                 6.0           3490.0                3397.0   \n",
              "2         28.0                17.0             50.0                   NaN   \n",
              "3         12.0                 1.0             19.0                   NaN   \n",
              "4        268.0               105.0            355.0                   NaN   \n",
              "\n",
              "   ThruPlays  Post comments  ...  Post shares  Video plays at 50%  Leads  \\\n",
              "0        NaN           31.0  ...         20.0                 NaN    NaN   \n",
              "1      325.0            NaN  ...          NaN               565.0    NaN   \n",
              "2        NaN            1.0  ...          3.0                 NaN    NaN   \n",
              "3        NaN            2.0  ...          NaN                 NaN    NaN   \n",
              "4        NaN            NaN  ...         16.0                 NaN    NaN   \n",
              "\n",
              "   Amount Spent  Objective      Country   Date2     5 Country4   Objective1  \n",
              "0        442.86        CPE        Egypt  Dec'21  None    Egypt          CPE  \n",
              "1         94.85      Egypt          CPC  Dec'21  None    Egypt          CPC  \n",
              "2         72.30      CPLPV        Egypt  Dec'21  None    Egypt        CPLPV  \n",
              "3         43.62      Egypt  Remarketing  Dec'21  None    Egypt  Remarketing  \n",
              "4        771.16        CPC          KSA  Dec'21  None      KSA          CPC  \n",
              "\n",
              "[5 rows x 22 columns]"
            ]
          },
          "execution_count": 1292,
          "metadata": {},
          "output_type": "execute_result"
        }
      ],
      "source": [
        "data.head()"
      ]
    },
    {
      "cell_type": "code",
      "execution_count": 1293,
      "metadata": {},
      "outputs": [],
      "source": [
        "data.drop(['Objective', 'Campaign name','Country', 'Date2', '5'], axis = 1, inplace = True)"
      ]
    },
    {
      "cell_type": "code",
      "execution_count": 1294,
      "metadata": {},
      "outputs": [],
      "source": [
        "data = data.rename(columns={'Country4': 'Country', 'Objective1': 'Objective'})\n"
      ]
    },
    {
      "cell_type": "code",
      "execution_count": 1295,
      "metadata": {},
      "outputs": [
        {
          "data": {
            "text/html": [
              "<div>\n",
              "<style scoped>\n",
              "    .dataframe tbody tr th:only-of-type {\n",
              "        vertical-align: middle;\n",
              "    }\n",
              "\n",
              "    .dataframe tbody tr th {\n",
              "        vertical-align: top;\n",
              "    }\n",
              "\n",
              "    .dataframe thead th {\n",
              "        text-align: right;\n",
              "    }\n",
              "</style>\n",
              "<table border=\"1\" class=\"dataframe\">\n",
              "  <thead>\n",
              "    <tr style=\"text-align: right;\">\n",
              "      <th></th>\n",
              "      <th>Date</th>\n",
              "      <th>Reach</th>\n",
              "      <th>Impressions</th>\n",
              "      <th>Link clicks</th>\n",
              "      <th>Landing page views</th>\n",
              "      <th>Post engagement</th>\n",
              "      <th>3-second video plays</th>\n",
              "      <th>ThruPlays</th>\n",
              "      <th>Post comments</th>\n",
              "      <th>Post saves</th>\n",
              "      <th>Post reactions</th>\n",
              "      <th>Post shares</th>\n",
              "      <th>Video plays at 50%</th>\n",
              "      <th>Leads</th>\n",
              "      <th>Amount Spent</th>\n",
              "      <th>Country</th>\n",
              "      <th>Objective</th>\n",
              "    </tr>\n",
              "  </thead>\n",
              "  <tbody>\n",
              "    <tr>\n",
              "      <th>0</th>\n",
              "      <td>31/12/2021</td>\n",
              "      <td>82607</td>\n",
              "      <td>108515</td>\n",
              "      <td>5.0</td>\n",
              "      <td>NaN</td>\n",
              "      <td>3671.0</td>\n",
              "      <td>NaN</td>\n",
              "      <td>NaN</td>\n",
              "      <td>31.0</td>\n",
              "      <td>7.0</td>\n",
              "      <td>2601.0</td>\n",
              "      <td>20.0</td>\n",
              "      <td>NaN</td>\n",
              "      <td>NaN</td>\n",
              "      <td>442.86</td>\n",
              "      <td>Egypt</td>\n",
              "      <td>CPE</td>\n",
              "    </tr>\n",
              "    <tr>\n",
              "      <th>1</th>\n",
              "      <td>31/12/2021</td>\n",
              "      <td>63441</td>\n",
              "      <td>68432</td>\n",
              "      <td>51.0</td>\n",
              "      <td>6.0</td>\n",
              "      <td>3490.0</td>\n",
              "      <td>3397.0</td>\n",
              "      <td>325.0</td>\n",
              "      <td>NaN</td>\n",
              "      <td>3.0</td>\n",
              "      <td>39.0</td>\n",
              "      <td>NaN</td>\n",
              "      <td>565.0</td>\n",
              "      <td>NaN</td>\n",
              "      <td>94.85</td>\n",
              "      <td>Egypt</td>\n",
              "      <td>CPC</td>\n",
              "    </tr>\n",
              "    <tr>\n",
              "      <th>2</th>\n",
              "      <td>31/12/2021</td>\n",
              "      <td>16064</td>\n",
              "      <td>16850</td>\n",
              "      <td>28.0</td>\n",
              "      <td>17.0</td>\n",
              "      <td>50.0</td>\n",
              "      <td>NaN</td>\n",
              "      <td>NaN</td>\n",
              "      <td>1.0</td>\n",
              "      <td>1.0</td>\n",
              "      <td>17.0</td>\n",
              "      <td>3.0</td>\n",
              "      <td>NaN</td>\n",
              "      <td>NaN</td>\n",
              "      <td>72.30</td>\n",
              "      <td>Egypt</td>\n",
              "      <td>CPLPV</td>\n",
              "    </tr>\n",
              "    <tr>\n",
              "      <th>3</th>\n",
              "      <td>31/12/2021</td>\n",
              "      <td>18664</td>\n",
              "      <td>21406</td>\n",
              "      <td>12.0</td>\n",
              "      <td>1.0</td>\n",
              "      <td>19.0</td>\n",
              "      <td>NaN</td>\n",
              "      <td>NaN</td>\n",
              "      <td>2.0</td>\n",
              "      <td>NaN</td>\n",
              "      <td>5.0</td>\n",
              "      <td>NaN</td>\n",
              "      <td>NaN</td>\n",
              "      <td>NaN</td>\n",
              "      <td>43.62</td>\n",
              "      <td>Egypt</td>\n",
              "      <td>Remarketing</td>\n",
              "    </tr>\n",
              "    <tr>\n",
              "      <th>4</th>\n",
              "      <td>31/12/2021</td>\n",
              "      <td>159934</td>\n",
              "      <td>166541</td>\n",
              "      <td>268.0</td>\n",
              "      <td>105.0</td>\n",
              "      <td>355.0</td>\n",
              "      <td>NaN</td>\n",
              "      <td>NaN</td>\n",
              "      <td>NaN</td>\n",
              "      <td>13.0</td>\n",
              "      <td>58.0</td>\n",
              "      <td>16.0</td>\n",
              "      <td>NaN</td>\n",
              "      <td>NaN</td>\n",
              "      <td>771.16</td>\n",
              "      <td>KSA</td>\n",
              "      <td>CPC</td>\n",
              "    </tr>\n",
              "  </tbody>\n",
              "</table>\n",
              "</div>"
            ],
            "text/plain": [
              "         Date   Reach  Impressions  Link clicks  Landing page views  \\\n",
              "0  31/12/2021   82607       108515          5.0                 NaN   \n",
              "1  31/12/2021   63441        68432         51.0                 6.0   \n",
              "2  31/12/2021   16064        16850         28.0                17.0   \n",
              "3  31/12/2021   18664        21406         12.0                 1.0   \n",
              "4  31/12/2021  159934       166541        268.0               105.0   \n",
              "\n",
              "   Post engagement  3-second video plays  ThruPlays  Post comments  \\\n",
              "0           3671.0                   NaN        NaN           31.0   \n",
              "1           3490.0                3397.0      325.0            NaN   \n",
              "2             50.0                   NaN        NaN            1.0   \n",
              "3             19.0                   NaN        NaN            2.0   \n",
              "4            355.0                   NaN        NaN            NaN   \n",
              "\n",
              "   Post saves  Post reactions  Post shares  Video plays at 50%  Leads  \\\n",
              "0         7.0          2601.0         20.0                 NaN    NaN   \n",
              "1         3.0            39.0          NaN               565.0    NaN   \n",
              "2         1.0            17.0          3.0                 NaN    NaN   \n",
              "3         NaN             5.0          NaN                 NaN    NaN   \n",
              "4        13.0            58.0         16.0                 NaN    NaN   \n",
              "\n",
              "   Amount Spent Country    Objective  \n",
              "0        442.86   Egypt          CPE  \n",
              "1         94.85   Egypt          CPC  \n",
              "2         72.30   Egypt        CPLPV  \n",
              "3         43.62   Egypt  Remarketing  \n",
              "4        771.16     KSA          CPC  "
            ]
          },
          "execution_count": 1295,
          "metadata": {},
          "output_type": "execute_result"
        }
      ],
      "source": [
        "data.head()"
      ]
    },
    {
      "cell_type": "code",
      "execution_count": null,
      "metadata": {},
      "outputs": [],
      "source": [
        "data.to_csv('clean_data.csv')\n"
      ]
    },
    {
      "cell_type": "markdown",
      "metadata": {
        "id": "Za0jp-Npy0ps"
      },
      "source": [
        "## Prepare the Data"
      ]
    },
    {
      "cell_type": "code",
      "execution_count": 1212,
      "metadata": {
        "id": "1INgdQZMy0pt"
      },
      "outputs": [],
      "source": [
        "# Splitting the data for testing and training."
      ]
    },
    {
      "cell_type": "code",
      "execution_count": 1215,
      "metadata": {
        "id": "MhI4K6nby0p1"
      },
      "outputs": [],
      "source": [
        "train=pd.concat([X_train,y_train],axis=1)"
      ]
    },
    {
      "cell_type": "code",
      "execution_count": null,
      "metadata": {
        "id": "Ejwbdo3ny0p8"
      },
      "outputs": [],
      "source": [
        "# Function to estimate the best value of n_estimators and fit the model with the given data."
      ]
    },
    {
      "cell_type": "code",
      "execution_count": 1217,
      "metadata": {
        "id": "XDrWVKRSy0p_"
      },
      "outputs": [],
      "source": [
        "import xgboost as xgb\n",
        "\n",
        "def modelfit(alg, dtrain, predictors,useTrainCV=True, cv_folds=5, early_stopping_rounds=50):\n",
        "    \n",
        "    if useTrainCV:\n",
        "        #to get the parameters of xgboost\n",
        "        xgb_param = alg.get_xgb_params() \n",
        "        \n",
        "        #to convert into a datastructure internally used by xgboost for training efficiency \n",
        "        # and speed\n",
        "        xgtrain = xgb.DMatrix(dtrain[predictors].values, label=dtrain[target].values)\n",
        "        \n",
        "        #xgb.cv is used to find the number of estimators required for the parameters \n",
        "        # which are set\n",
        "        cvresult = xgb.cv(xgb_param, xgtrain, \n",
        "                          num_boost_round=alg.get_params()['n_estimators'], nfold=cv_folds,\n",
        "                        metrics='auc', early_stopping_rounds=early_stopping_rounds)\n",
        "        \n",
        "        #setting the n_estimators parameter using set_params\n",
        "        alg.set_params(n_estimators=cvresult.shape[0])\n",
        "        \n",
        "        print(alg.get_xgb_params())\n",
        "    \n",
        "    #Fit the algorithm on the data\n",
        "    alg.fit(dtrain[predictors], dtrain['Amount Spent'],eval_metric='auc')\n",
        "    \n",
        "    return alg"
      ]
    },
    {
      "cell_type": "code",
      "execution_count": null,
      "metadata": {
        "id": "AsILrXIay0qC"
      },
      "outputs": [],
      "source": [
        "# Function to get the accuracy of the model on the test data given the features considered."
      ]
    },
    {
      "cell_type": "code",
      "execution_count": 1218,
      "metadata": {
        "id": "z9WG0lNYy0qF"
      },
      "outputs": [],
      "source": [
        "def get_accuracy(alg,predictors):\n",
        "    dtrain_predictions = alg.predict(X_test[predictors])\n",
        "    dtrain_predprob = alg.predict_proba(X_test[predictors])[:,1]\n",
        "    print (\"\\nModel Report\")\n",
        "    print (\"Accuracy : %.4g\" % metrics.accuracy_score(y_test.values, \n",
        "                                                      dtrain_predictions))\n",
        "    print (\"AUC Score (Train): %f\" % metrics.roc_auc_score(y_test.values, \n",
        "                                                           dtrain_predprob))"
      ]
    },
    {
      "cell_type": "code",
      "execution_count": null,
      "metadata": {
        "id": "EBevLNUWy0qH"
      },
      "outputs": [],
      "source": [
        "# Function to get the feature importances based on the model fit."
      ]
    },
    {
      "cell_type": "code",
      "execution_count": 1219,
      "metadata": {
        "id": "AzV_bz3Hy0qK"
      },
      "outputs": [],
      "source": [
        "def get_feature_importances(alg):\n",
        "    #to get the feature importances based on xgboost we use fscore\n",
        "    feat_imp = pd.Series(alg._Booster.get_fscore()).sort_values(ascending=False)\n",
        "    print(feat_imp)\n",
        "    \n",
        "    #this shows the feature importances on a bar chart\n",
        "    feat_imp.plot(kind='bar', title='Feature Importances')\n",
        "    plt.ylabel('Feature Importance Score')"
      ]
    },
    {
      "cell_type": "code",
      "execution_count": 1233,
      "metadata": {},
      "outputs": [
        {
          "ename": "NameError",
          "evalue": "name 'X_rooms' is not defined",
          "output_type": "error",
          "traceback": [
            "\u001b[1;31m---------------------------------------------------------------------------\u001b[0m",
            "\u001b[1;31mNameError\u001b[0m                                 Traceback (most recent call last)",
            "\u001b[1;32mc:\\Users\\user\\Downloads\\Jaafar Hoteit\\Predict_Amount_Spent_on_Campaigns_Case_Study.ipynb Cell 73\u001b[0m in \u001b[0;36m<cell line: 1>\u001b[1;34m()\u001b[0m\n\u001b[1;32m----> <a href='vscode-notebook-cell:/c%3A/Users/user/Downloads/Jaafar%20Hoteit/Predict_Amount_Spent_on_Campaigns_Case_Study.ipynb#ch0000164?line=0'>1</a>\u001b[0m X_train_1, X_test_1, Y_train_1, Y_test_1 \u001b[39m=\u001b[39m train_test_split(X_rooms, y_price, test_size \u001b[39m=\u001b[39m \u001b[39m0.2\u001b[39m, random_state\u001b[39m=\u001b[39m\u001b[39m5\u001b[39m)\n",
            "\u001b[1;31mNameError\u001b[0m: name 'X_rooms' is not defined"
          ]
        }
      ],
      "source": [
        "X_rooms = bos.RM\n",
        "y_price = data[\"Amount Spent\"]\n",
        "\n",
        "\n",
        "X_rooms = np.array(X_rooms).reshape(-1,1)\n",
        "y_price = np.array(y_price).reshape(-1,1)\n",
        "\n",
        "X_train_1, X_test_1, Y_train_1, Y_test_1 = train_test_split(X_rooms, y_price, test_size = 0.2, random_state=5)\n"
      ]
    },
    {
      "cell_type": "markdown",
      "metadata": {
        "id": "xn7ABOQky0qV"
      },
      "source": [
        "## 7: Model Selection, Predictions, and Metrics"
      ]
    },
    {
      "cell_type": "code",
      "execution_count": null,
      "metadata": {
        "id": "qtqV9eggy0qW"
      },
      "outputs": [],
      "source": [
        "# To return the XGBClassifier object based on the values of the features."
      ]
    },
    {
      "cell_type": "code",
      "execution_count": null,
      "metadata": {
        "colab": {
          "base_uri": "https://localhost:8080/",
          "height": 69
        },
        "id": "9kBqFmhe0kWQ",
        "outputId": "58f586ad-a11a-4221-d49c-d5f166abf441"
      },
      "outputs": [
        {
          "name": "stdout",
          "output_type": "stream",
          "text": [
            "Requirement already satisfied: xgboost in /usr/local/lib/python3.6/dist-packages (0.7.post4)\n",
            "Requirement already satisfied: numpy in /usr/local/lib/python3.6/dist-packages (from xgboost) (1.14.6)\n",
            "Requirement already satisfied: scipy in /usr/local/lib/python3.6/dist-packages (from xgboost) (1.1.0)\n"
          ]
        }
      ],
      "source": [
        "# XGBoost converts weak learners to strong learners through an ensemble method. "
      ]
    },
    {
      "cell_type": "code",
      "execution_count": 1221,
      "metadata": {
        "id": "swdjCkipy0qa"
      },
      "outputs": [],
      "source": [
        "def XgbClass(learning_rate =0.1,n_estimators=1000,max_depth=5,min_child_weight=1,\n",
        "             gamma=0,subsample=0.8,colsample_bytree=0.8):\n",
        "    xgb1 = XGBClassifier(learning_rate=learning_rate,\n",
        "                         n_estimators=n_estimators,\n",
        "                         max_depth=max_depth,\n",
        "                         min_child_weight=min_child_weight,\n",
        "                         gamma=gamma,\n",
        "                         subsample=subsample,\n",
        "                         colsample_bytree=colsample_bytree)\n",
        "    return xgb1"
      ]
    },
    {
      "cell_type": "code",
      "execution_count": null,
      "metadata": {
        "id": "m837XZX5y0qd"
      },
      "outputs": [],
      "source": [
        "# Function to return the list of predictors."
      ]
    },
    {
      "cell_type": "code",
      "execution_count": 1222,
      "metadata": {
        "id": "9dQWyI57y0qf"
      },
      "outputs": [],
      "source": [
        "# These are the initial parameters before tuning.\n",
        "def drop_features(l):\n",
        "    return [x for x in train.columns if x not in l]"
      ]
    },
    {
      "cell_type": "markdown",
      "metadata": {
        "id": "jgoA5DT7y0qj"
      },
      "source": [
        "### First Prediction: Use of initial parameters and without feature engineering"
      ]
    },
    {
      "cell_type": "code",
      "execution_count": 1223,
      "metadata": {
        "id": "Qjz-FBOZ00Hn"
      },
      "outputs": [],
      "source": [
        "from xgboost import XGBClassifier\n",
        "import xgboost as xgb"
      ]
    },
    {
      "cell_type": "code",
      "execution_count": 1228,
      "metadata": {},
      "outputs": [
        {
          "data": {
            "text/html": [
              "<div>\n",
              "<style scoped>\n",
              "    .dataframe tbody tr th:only-of-type {\n",
              "        vertical-align: middle;\n",
              "    }\n",
              "\n",
              "    .dataframe tbody tr th {\n",
              "        vertical-align: top;\n",
              "    }\n",
              "\n",
              "    .dataframe thead th {\n",
              "        text-align: right;\n",
              "    }\n",
              "</style>\n",
              "<table border=\"1\" class=\"dataframe\">\n",
              "  <thead>\n",
              "    <tr style=\"text-align: right;\">\n",
              "      <th></th>\n",
              "      <th>Date</th>\n",
              "      <th>Campaign name</th>\n",
              "      <th>Reach</th>\n",
              "      <th>Impressions</th>\n",
              "      <th>Link clicks</th>\n",
              "      <th>Landing page views</th>\n",
              "      <th>Post engagement</th>\n",
              "      <th>3-second video plays</th>\n",
              "      <th>ThruPlays</th>\n",
              "      <th>Post comments</th>\n",
              "      <th>...</th>\n",
              "      <th>Post shares</th>\n",
              "      <th>Video plays at 50%</th>\n",
              "      <th>Leads</th>\n",
              "      <th>Amount Spent</th>\n",
              "      <th>Objective</th>\n",
              "      <th>Country</th>\n",
              "      <th>Date2</th>\n",
              "      <th>5</th>\n",
              "      <th>Country4</th>\n",
              "      <th>Objective1</th>\n",
              "    </tr>\n",
              "  </thead>\n",
              "  <tbody>\n",
              "    <tr>\n",
              "      <th>0</th>\n",
              "      <td>31/12/2021</td>\n",
              "      <td>0016_CPE_Egypt_Dec'21</td>\n",
              "      <td>82607</td>\n",
              "      <td>108515</td>\n",
              "      <td>5.0</td>\n",
              "      <td>NaN</td>\n",
              "      <td>3671.0</td>\n",
              "      <td>NaN</td>\n",
              "      <td>NaN</td>\n",
              "      <td>31.0</td>\n",
              "      <td>...</td>\n",
              "      <td>20.0</td>\n",
              "      <td>NaN</td>\n",
              "      <td>NaN</td>\n",
              "      <td>442.86</td>\n",
              "      <td>CPE</td>\n",
              "      <td>Egypt</td>\n",
              "      <td>Dec'21</td>\n",
              "      <td>None</td>\n",
              "      <td>Egypt</td>\n",
              "      <td>CPE</td>\n",
              "    </tr>\n",
              "    <tr>\n",
              "      <th>1</th>\n",
              "      <td>31/12/2021</td>\n",
              "      <td>0016_Egypt_CPC_Dec'21</td>\n",
              "      <td>63441</td>\n",
              "      <td>68432</td>\n",
              "      <td>51.0</td>\n",
              "      <td>6.0</td>\n",
              "      <td>3490.0</td>\n",
              "      <td>3397.0</td>\n",
              "      <td>325.0</td>\n",
              "      <td>NaN</td>\n",
              "      <td>...</td>\n",
              "      <td>NaN</td>\n",
              "      <td>565.0</td>\n",
              "      <td>NaN</td>\n",
              "      <td>94.85</td>\n",
              "      <td>Egypt</td>\n",
              "      <td>CPC</td>\n",
              "      <td>Dec'21</td>\n",
              "      <td>None</td>\n",
              "      <td>Egypt</td>\n",
              "      <td>CPC</td>\n",
              "    </tr>\n",
              "    <tr>\n",
              "      <th>2</th>\n",
              "      <td>31/12/2021</td>\n",
              "      <td>0016_CPLPV_Egypt_Dec'21</td>\n",
              "      <td>16064</td>\n",
              "      <td>16850</td>\n",
              "      <td>28.0</td>\n",
              "      <td>17.0</td>\n",
              "      <td>50.0</td>\n",
              "      <td>NaN</td>\n",
              "      <td>NaN</td>\n",
              "      <td>1.0</td>\n",
              "      <td>...</td>\n",
              "      <td>3.0</td>\n",
              "      <td>NaN</td>\n",
              "      <td>NaN</td>\n",
              "      <td>72.30</td>\n",
              "      <td>CPLPV</td>\n",
              "      <td>Egypt</td>\n",
              "      <td>Dec'21</td>\n",
              "      <td>None</td>\n",
              "      <td>Egypt</td>\n",
              "      <td>CPLPV</td>\n",
              "    </tr>\n",
              "    <tr>\n",
              "      <th>3</th>\n",
              "      <td>31/12/2021</td>\n",
              "      <td>0016_Egypt_Remarketing_Dec'21</td>\n",
              "      <td>18664</td>\n",
              "      <td>21406</td>\n",
              "      <td>12.0</td>\n",
              "      <td>1.0</td>\n",
              "      <td>19.0</td>\n",
              "      <td>NaN</td>\n",
              "      <td>NaN</td>\n",
              "      <td>2.0</td>\n",
              "      <td>...</td>\n",
              "      <td>NaN</td>\n",
              "      <td>NaN</td>\n",
              "      <td>NaN</td>\n",
              "      <td>43.62</td>\n",
              "      <td>Egypt</td>\n",
              "      <td>Remarketing</td>\n",
              "      <td>Dec'21</td>\n",
              "      <td>None</td>\n",
              "      <td>Egypt</td>\n",
              "      <td>Remarketing</td>\n",
              "    </tr>\n",
              "    <tr>\n",
              "      <th>4</th>\n",
              "      <td>31/12/2021</td>\n",
              "      <td>0016_CPC_KSA_Dec'21</td>\n",
              "      <td>159934</td>\n",
              "      <td>166541</td>\n",
              "      <td>268.0</td>\n",
              "      <td>105.0</td>\n",
              "      <td>355.0</td>\n",
              "      <td>NaN</td>\n",
              "      <td>NaN</td>\n",
              "      <td>NaN</td>\n",
              "      <td>...</td>\n",
              "      <td>16.0</td>\n",
              "      <td>NaN</td>\n",
              "      <td>NaN</td>\n",
              "      <td>771.16</td>\n",
              "      <td>CPC</td>\n",
              "      <td>KSA</td>\n",
              "      <td>Dec'21</td>\n",
              "      <td>None</td>\n",
              "      <td>KSA</td>\n",
              "      <td>CPC</td>\n",
              "    </tr>\n",
              "  </tbody>\n",
              "</table>\n",
              "<p>5 rows × 22 columns</p>\n",
              "</div>"
            ],
            "text/plain": [
              "         Date                  Campaign name   Reach  Impressions  \\\n",
              "0  31/12/2021          0016_CPE_Egypt_Dec'21   82607       108515   \n",
              "1  31/12/2021          0016_Egypt_CPC_Dec'21   63441        68432   \n",
              "2  31/12/2021        0016_CPLPV_Egypt_Dec'21   16064        16850   \n",
              "3  31/12/2021  0016_Egypt_Remarketing_Dec'21   18664        21406   \n",
              "4  31/12/2021            0016_CPC_KSA_Dec'21  159934       166541   \n",
              "\n",
              "   Link clicks  Landing page views  Post engagement  3-second video plays  \\\n",
              "0          5.0                 NaN           3671.0                   NaN   \n",
              "1         51.0                 6.0           3490.0                3397.0   \n",
              "2         28.0                17.0             50.0                   NaN   \n",
              "3         12.0                 1.0             19.0                   NaN   \n",
              "4        268.0               105.0            355.0                   NaN   \n",
              "\n",
              "   ThruPlays  Post comments  ...  Post shares  Video plays at 50%  Leads  \\\n",
              "0        NaN           31.0  ...         20.0                 NaN    NaN   \n",
              "1      325.0            NaN  ...          NaN               565.0    NaN   \n",
              "2        NaN            1.0  ...          3.0                 NaN    NaN   \n",
              "3        NaN            2.0  ...          NaN                 NaN    NaN   \n",
              "4        NaN            NaN  ...         16.0                 NaN    NaN   \n",
              "\n",
              "   Amount Spent  Objective      Country   Date2     5 Country4   Objective1  \n",
              "0        442.86        CPE        Egypt  Dec'21  None    Egypt          CPE  \n",
              "1         94.85      Egypt          CPC  Dec'21  None    Egypt          CPC  \n",
              "2         72.30      CPLPV        Egypt  Dec'21  None    Egypt        CPLPV  \n",
              "3         43.62      Egypt  Remarketing  Dec'21  None    Egypt  Remarketing  \n",
              "4        771.16        CPC          KSA  Dec'21  None      KSA          CPC  \n",
              "\n",
              "[5 rows x 22 columns]"
            ]
          },
          "execution_count": 1228,
          "metadata": {},
          "output_type": "execute_result"
        }
      ],
      "source": [
        "data.head()"
      ]
    },
    {
      "cell_type": "code",
      "execution_count": 1230,
      "metadata": {},
      "outputs": [
        {
          "data": {
            "text/plain": [
              "0        442.86\n",
              "1         94.85\n",
              "2         72.30\n",
              "3         43.62\n",
              "4        771.16\n",
              "          ...  \n",
              "33318     85.11\n",
              "33319    205.48\n",
              "33416     75.53\n",
              "33417    157.10\n",
              "33515     79.12\n",
              "Name: Amount Spent, Length: 2342, dtype: float64"
            ]
          },
          "execution_count": 1230,
          "metadata": {},
          "output_type": "execute_result"
        }
      ],
      "source": [
        "data['Amount Spent'].apply(lambda x: float(x))\n"
      ]
    },
    {
      "cell_type": "code",
      "execution_count": 1231,
      "metadata": {
        "colab": {
          "base_uri": "https://localhost:8080/",
          "height": 158
        },
        "id": "yTNEx7Jfy0qj",
        "outputId": "6684e365-08e3-406f-8d54-adb6636c2eca"
      },
      "outputs": [
        {
          "ename": "ValueError",
          "evalue": "could not convert string to float: '5/3/2021'",
          "output_type": "error",
          "traceback": [
            "\u001b[1;31m---------------------------------------------------------------------------\u001b[0m",
            "\u001b[1;31mValueError\u001b[0m                                Traceback (most recent call last)",
            "\u001b[1;32mc:\\Users\\user\\Downloads\\Jaafar Hoteit\\Predict_Amount_Spent_on_Campaigns_Case_Study.ipynb Cell 83\u001b[0m in \u001b[0;36m<cell line: 3>\u001b[1;34m()\u001b[0m\n\u001b[0;32m      <a href='vscode-notebook-cell:/c%3A/Users/user/Downloads/Jaafar%20Hoteit/Predict_Amount_Spent_on_Campaigns_Case_Study.ipynb#ch0000059?line=0'>1</a>\u001b[0m predictors \u001b[39m=\u001b[39m drop_features([target, IDcol])\n\u001b[0;32m      <a href='vscode-notebook-cell:/c%3A/Users/user/Downloads/Jaafar%20Hoteit/Predict_Amount_Spent_on_Campaigns_Case_Study.ipynb#ch0000059?line=1'>2</a>\u001b[0m xgb1\u001b[39m=\u001b[39mXgbClass()\n\u001b[1;32m----> <a href='vscode-notebook-cell:/c%3A/Users/user/Downloads/Jaafar%20Hoteit/Predict_Amount_Spent_on_Campaigns_Case_Study.ipynb#ch0000059?line=2'>3</a>\u001b[0m first_model\u001b[39m=\u001b[39mmodelfit(xgb1, train, predictors)\n\u001b[0;32m      <a href='vscode-notebook-cell:/c%3A/Users/user/Downloads/Jaafar%20Hoteit/Predict_Amount_Spent_on_Campaigns_Case_Study.ipynb#ch0000059?line=3'>4</a>\u001b[0m xgb1\u001b[39m.\u001b[39mfit(train[predictors],train[\u001b[39m'\u001b[39m\u001b[39mAmount Spent\u001b[39m\u001b[39m'\u001b[39m])\n",
            "\u001b[1;32mc:\\Users\\user\\Downloads\\Jaafar Hoteit\\Predict_Amount_Spent_on_Campaigns_Case_Study.ipynb Cell 83\u001b[0m in \u001b[0;36mmodelfit\u001b[1;34m(alg, dtrain, predictors, useTrainCV, cv_folds, early_stopping_rounds)\u001b[0m\n\u001b[0;32m      <a href='vscode-notebook-cell:/c%3A/Users/user/Downloads/Jaafar%20Hoteit/Predict_Amount_Spent_on_Campaigns_Case_Study.ipynb#ch0000059?line=6'>7</a>\u001b[0m xgb_param \u001b[39m=\u001b[39m alg\u001b[39m.\u001b[39mget_xgb_params() \n\u001b[0;32m      <a href='vscode-notebook-cell:/c%3A/Users/user/Downloads/Jaafar%20Hoteit/Predict_Amount_Spent_on_Campaigns_Case_Study.ipynb#ch0000059?line=8'>9</a>\u001b[0m \u001b[39m#to convert into a datastructure internally used by xgboost for training efficiency \u001b[39;00m\n\u001b[0;32m     <a href='vscode-notebook-cell:/c%3A/Users/user/Downloads/Jaafar%20Hoteit/Predict_Amount_Spent_on_Campaigns_Case_Study.ipynb#ch0000059?line=9'>10</a>\u001b[0m \u001b[39m# and speed\u001b[39;00m\n\u001b[1;32m---> <a href='vscode-notebook-cell:/c%3A/Users/user/Downloads/Jaafar%20Hoteit/Predict_Amount_Spent_on_Campaigns_Case_Study.ipynb#ch0000059?line=10'>11</a>\u001b[0m xgtrain \u001b[39m=\u001b[39m xgb\u001b[39m.\u001b[39;49mDMatrix(dtrain[predictors]\u001b[39m.\u001b[39;49mvalues, label\u001b[39m=\u001b[39;49mdtrain[target]\u001b[39m.\u001b[39;49mvalues)\n\u001b[0;32m     <a href='vscode-notebook-cell:/c%3A/Users/user/Downloads/Jaafar%20Hoteit/Predict_Amount_Spent_on_Campaigns_Case_Study.ipynb#ch0000059?line=12'>13</a>\u001b[0m \u001b[39m#xgb.cv is used to find the number of estimators required for the parameters \u001b[39;00m\n\u001b[0;32m     <a href='vscode-notebook-cell:/c%3A/Users/user/Downloads/Jaafar%20Hoteit/Predict_Amount_Spent_on_Campaigns_Case_Study.ipynb#ch0000059?line=13'>14</a>\u001b[0m \u001b[39m# which are set\u001b[39;00m\n\u001b[0;32m     <a href='vscode-notebook-cell:/c%3A/Users/user/Downloads/Jaafar%20Hoteit/Predict_Amount_Spent_on_Campaigns_Case_Study.ipynb#ch0000059?line=14'>15</a>\u001b[0m cvresult \u001b[39m=\u001b[39m xgb\u001b[39m.\u001b[39mcv(xgb_param, xgtrain, \n\u001b[0;32m     <a href='vscode-notebook-cell:/c%3A/Users/user/Downloads/Jaafar%20Hoteit/Predict_Amount_Spent_on_Campaigns_Case_Study.ipynb#ch0000059?line=15'>16</a>\u001b[0m                   num_boost_round\u001b[39m=\u001b[39malg\u001b[39m.\u001b[39mget_params()[\u001b[39m'\u001b[39m\u001b[39mn_estimators\u001b[39m\u001b[39m'\u001b[39m], nfold\u001b[39m=\u001b[39mcv_folds,\n\u001b[0;32m     <a href='vscode-notebook-cell:/c%3A/Users/user/Downloads/Jaafar%20Hoteit/Predict_Amount_Spent_on_Campaigns_Case_Study.ipynb#ch0000059?line=16'>17</a>\u001b[0m                 metrics\u001b[39m=\u001b[39m\u001b[39m'\u001b[39m\u001b[39mauc\u001b[39m\u001b[39m'\u001b[39m, early_stopping_rounds\u001b[39m=\u001b[39mearly_stopping_rounds)\n",
            "File \u001b[1;32mc:\\Users\\user\\AppData\\Local\\Programs\\Python\\Python310\\lib\\site-packages\\xgboost\\core.py:532\u001b[0m, in \u001b[0;36m_deprecate_positional_args.<locals>.inner_f\u001b[1;34m(*args, **kwargs)\u001b[0m\n\u001b[0;32m    530\u001b[0m \u001b[39mfor\u001b[39;00m k, arg \u001b[39min\u001b[39;00m \u001b[39mzip\u001b[39m(sig\u001b[39m.\u001b[39mparameters, args):\n\u001b[0;32m    531\u001b[0m     kwargs[k] \u001b[39m=\u001b[39m arg\n\u001b[1;32m--> 532\u001b[0m \u001b[39mreturn\u001b[39;00m f(\u001b[39m*\u001b[39m\u001b[39m*\u001b[39mkwargs)\n",
            "File \u001b[1;32mc:\\Users\\user\\AppData\\Local\\Programs\\Python\\Python310\\lib\\site-packages\\xgboost\\core.py:643\u001b[0m, in \u001b[0;36mDMatrix.__init__\u001b[1;34m(self, data, label, weight, base_margin, missing, silent, feature_names, feature_types, nthread, group, qid, label_lower_bound, label_upper_bound, feature_weights, enable_categorical)\u001b[0m\n\u001b[0;32m    640\u001b[0m     \u001b[39massert\u001b[39;00m \u001b[39mself\u001b[39m\u001b[39m.\u001b[39mhandle \u001b[39mis\u001b[39;00m \u001b[39mnot\u001b[39;00m \u001b[39mNone\u001b[39;00m\n\u001b[0;32m    641\u001b[0m     \u001b[39mreturn\u001b[39;00m\n\u001b[1;32m--> 643\u001b[0m handle, feature_names, feature_types \u001b[39m=\u001b[39m dispatch_data_backend(\n\u001b[0;32m    644\u001b[0m     data,\n\u001b[0;32m    645\u001b[0m     missing\u001b[39m=\u001b[39;49m\u001b[39mself\u001b[39;49m\u001b[39m.\u001b[39;49mmissing,\n\u001b[0;32m    646\u001b[0m     threads\u001b[39m=\u001b[39;49m\u001b[39mself\u001b[39;49m\u001b[39m.\u001b[39;49mnthread,\n\u001b[0;32m    647\u001b[0m     feature_names\u001b[39m=\u001b[39;49mfeature_names,\n\u001b[0;32m    648\u001b[0m     feature_types\u001b[39m=\u001b[39;49mfeature_types,\n\u001b[0;32m    649\u001b[0m     enable_categorical\u001b[39m=\u001b[39;49menable_categorical,\n\u001b[0;32m    650\u001b[0m )\n\u001b[0;32m    651\u001b[0m \u001b[39massert\u001b[39;00m handle \u001b[39mis\u001b[39;00m \u001b[39mnot\u001b[39;00m \u001b[39mNone\u001b[39;00m\n\u001b[0;32m    652\u001b[0m \u001b[39mself\u001b[39m\u001b[39m.\u001b[39mhandle \u001b[39m=\u001b[39m handle\n",
            "File \u001b[1;32mc:\\Users\\user\\AppData\\Local\\Programs\\Python\\Python310\\lib\\site-packages\\xgboost\\data.py:887\u001b[0m, in \u001b[0;36mdispatch_data_backend\u001b[1;34m(data, missing, threads, feature_names, feature_types, enable_categorical)\u001b[0m\n\u001b[0;32m    883\u001b[0m     \u001b[39mreturn\u001b[39;00m _from_scipy_csr(\n\u001b[0;32m    884\u001b[0m         data\u001b[39m.\u001b[39mtocsr(), missing, threads, feature_names, feature_types\n\u001b[0;32m    885\u001b[0m     )\n\u001b[0;32m    886\u001b[0m \u001b[39mif\u001b[39;00m _is_numpy_array(data):\n\u001b[1;32m--> 887\u001b[0m     \u001b[39mreturn\u001b[39;00m _from_numpy_array(data, missing, threads, feature_names,\n\u001b[0;32m    888\u001b[0m                              feature_types)\n\u001b[0;32m    889\u001b[0m \u001b[39mif\u001b[39;00m _is_uri(data):\n\u001b[0;32m    890\u001b[0m     \u001b[39mreturn\u001b[39;00m _from_uri(data, missing, feature_names, feature_types)\n",
            "File \u001b[1;32mc:\\Users\\user\\AppData\\Local\\Programs\\Python\\Python310\\lib\\site-packages\\xgboost\\data.py:177\u001b[0m, in \u001b[0;36m_from_numpy_array\u001b[1;34m(data, missing, nthread, feature_names, feature_types)\u001b[0m\n\u001b[0;32m    173\u001b[0m \u001b[39mif\u001b[39;00m \u001b[39mlen\u001b[39m(data\u001b[39m.\u001b[39mshape) \u001b[39m!=\u001b[39m \u001b[39m2\u001b[39m:\n\u001b[0;32m    174\u001b[0m     \u001b[39mraise\u001b[39;00m \u001b[39mValueError\u001b[39;00m(\n\u001b[0;32m    175\u001b[0m         \u001b[39m\"\u001b[39m\u001b[39mExpecting 2 dimensional numpy.ndarray, got: \u001b[39m\u001b[39m\"\u001b[39m, data\u001b[39m.\u001b[39mshape\n\u001b[0;32m    176\u001b[0m     )\n\u001b[1;32m--> 177\u001b[0m data, _ \u001b[39m=\u001b[39m _ensure_np_dtype(data, data\u001b[39m.\u001b[39;49mdtype)\n\u001b[0;32m    178\u001b[0m handle \u001b[39m=\u001b[39m ctypes\u001b[39m.\u001b[39mc_void_p()\n\u001b[0;32m    179\u001b[0m args \u001b[39m=\u001b[39m {\n\u001b[0;32m    180\u001b[0m     \u001b[39m\"\u001b[39m\u001b[39mmissing\u001b[39m\u001b[39m\"\u001b[39m: \u001b[39mfloat\u001b[39m(missing),\n\u001b[0;32m    181\u001b[0m     \u001b[39m\"\u001b[39m\u001b[39mnthread\u001b[39m\u001b[39m\"\u001b[39m: \u001b[39mint\u001b[39m(nthread),\n\u001b[0;32m    182\u001b[0m }\n",
            "File \u001b[1;32mc:\\Users\\user\\AppData\\Local\\Programs\\Python\\Python310\\lib\\site-packages\\xgboost\\data.py:144\u001b[0m, in \u001b[0;36m_ensure_np_dtype\u001b[1;34m(data, dtype)\u001b[0m\n\u001b[0;32m    142\u001b[0m \u001b[39mdef\u001b[39;00m \u001b[39m_ensure_np_dtype\u001b[39m(data, dtype) \u001b[39m-\u001b[39m\u001b[39m>\u001b[39m Tuple[np\u001b[39m.\u001b[39mndarray, np\u001b[39m.\u001b[39mdtype]:\n\u001b[0;32m    143\u001b[0m     \u001b[39mif\u001b[39;00m data\u001b[39m.\u001b[39mdtype\u001b[39m.\u001b[39mhasobject \u001b[39mor\u001b[39;00m data\u001b[39m.\u001b[39mdtype \u001b[39min\u001b[39;00m [np\u001b[39m.\u001b[39mfloat16, np\u001b[39m.\u001b[39mbool_]:\n\u001b[1;32m--> 144\u001b[0m         data \u001b[39m=\u001b[39m data\u001b[39m.\u001b[39;49mastype(np\u001b[39m.\u001b[39;49mfloat32, copy\u001b[39m=\u001b[39;49m\u001b[39mFalse\u001b[39;49;00m)\n\u001b[0;32m    145\u001b[0m         dtype \u001b[39m=\u001b[39m np\u001b[39m.\u001b[39mfloat32\n\u001b[0;32m    146\u001b[0m     \u001b[39mreturn\u001b[39;00m data, dtype\n",
            "\u001b[1;31mValueError\u001b[0m: could not convert string to float: '5/3/2021'"
          ]
        }
      ],
      "source": [
        "predictors = drop_features([target, IDcol])\n",
        "xgb1=XgbClass()\n",
        "first_model=modelfit(xgb1, train, predictors)\n",
        "xgb1.fit(train[predictors],train['Amount Spent'])"
      ]
    },
    {
      "cell_type": "code",
      "execution_count": 1232,
      "metadata": {
        "colab": {
          "base_uri": "https://localhost:8080/",
          "height": 86
        },
        "id": "GpuBOp0Yy0qm",
        "outputId": "c1df232f-f1c1-4029-8e47-b159d9d7f1fa"
      },
      "outputs": [
        {
          "ename": "NameError",
          "evalue": "name 'first_model' is not defined",
          "output_type": "error",
          "traceback": [
            "\u001b[1;31m---------------------------------------------------------------------------\u001b[0m",
            "\u001b[1;31mNameError\u001b[0m                                 Traceback (most recent call last)",
            "\u001b[1;32mc:\\Users\\user\\Downloads\\Jaafar Hoteit\\Predict_Amount_Spent_on_Campaigns_Case_Study.ipynb Cell 84\u001b[0m in \u001b[0;36m<cell line: 1>\u001b[1;34m()\u001b[0m\n\u001b[1;32m----> <a href='vscode-notebook-cell:/c%3A/Users/user/Downloads/Jaafar%20Hoteit/Predict_Amount_Spent_on_Campaigns_Case_Study.ipynb#ch0000060?line=0'>1</a>\u001b[0m get_accuracy(first_model,predictors)\n",
            "\u001b[1;31mNameError\u001b[0m: name 'first_model' is not defined"
          ]
        }
      ],
      "source": [
        "get_accuracy(first_model,predictors)"
      ]
    },
    {
      "cell_type": "markdown",
      "metadata": {
        "id": "2jOlGPtm07C2"
      },
      "source": [
        "**Accuracy** is the proportion of true positives and negatives in the whole data set. It determines if a value is accurate compare it to the accepted value; the nearness of a calculation to the true value.\n",
        "\n",
        "**AUC** (area under the ROC receiver operating characteristic curve) measures how true positive rate (recall) and false positive rate trade off, so in that sense it is already measuring something else. More importantly, AUC is not a function of threshold. It is an evaluation of the classifier as threshold varies over all possible values. It is in a sense a broader metric, testing the quality of the internal value that the classifier generates and then compares to a threshold. \n",
        "\n",
        "**Accuracy vs AUC**: The accuracy depends on the threshold chosen, whereas the AUC considers all possible thresholds. Because of this it is often preferred as it provides a “broader” view of the performance of the classifier, but they still measure different things and as such using one or the other is problem-dependent."
      ]
    },
    {
      "cell_type": "code",
      "execution_count": null,
      "metadata": {
        "colab": {
          "base_uri": "https://localhost:8080/",
          "height": 676
        },
        "id": "LTOwEH9iy0qp",
        "outputId": "07ef1781-3170-493d-dfe3-ee190db8ff1f"
      },
      "outputs": [
        {
          "name": "stdout",
          "output_type": "stream",
          "text": [
            "MonthlyCharges      270\n",
            "tenure              195\n",
            "PaymentMethod        58\n",
            "Contract             57\n",
            "InternetService      42\n",
            "OnlineBackup         39\n",
            "StreamingTV          26\n",
            "PaperlessBilling     26\n",
            "OnlineSecurity       25\n",
            "SeniorCitizen        24\n",
            "TechSupport          23\n",
            "Partner              20\n",
            "PhoneService         18\n",
            "MultipleLines        18\n",
            "StreamingMovies      16\n",
            "gender               16\n",
            "Dependents           16\n",
            "DeviceProtection     12\n",
            "dtype: int64\n"
          ]
        },
        {
          "data": {
            "image/png": "[encoded data removed]",
            "text/plain": [
              "<Figure size 432x288 with 1 Axes>"
            ]
          },
          "metadata": {
            "tags": []
          },
          "output_type": "display_data"
        }
      ],
      "source": [
        "get_feature_importances(first_model)"
      ]
    },
    {
      "cell_type": "markdown",
      "metadata": {
        "id": "k7tki9U_y0qt"
      },
      "source": [
        "### Second Prediction: Using intial Parameters and removing features of least importances"
      ]
    },
    {
      "cell_type": "code",
      "execution_count": null,
      "metadata": {
        "id": "e8ICSpTry0qt"
      },
      "outputs": [],
      "source": [
        "# Model after removing the features of least importance."
      ]
    },
    {
      "cell_type": "code",
      "execution_count": null,
      "metadata": {
        "id": "UwzYOgb7y0qx"
      },
      "outputs": [],
      "source": [
        "dropl=['DeviceProtection','Dependents','Dependents','gender','StreamingMovies','MultipleLines']"
      ]
    },
    {
      "cell_type": "code",
      "execution_count": null,
      "metadata": {
        "id": "2-MObariy0q0"
      },
      "outputs": [],
      "source": [
        "dropl_first=dropl+[target,IDcol]"
      ]
    },
    {
      "cell_type": "code",
      "execution_count": null,
      "metadata": {
        "colab": {
          "base_uri": "https://localhost:8080/",
          "height": 55
        },
        "id": "VKroiJ2hy0q2",
        "outputId": "4f53bb18-d7c7-4650-8173-eba50ab25962"
      },
      "outputs": [
        {
          "name": "stdout",
          "output_type": "stream",
          "text": [
            "{'base_score': 0.5, 'booster': 'gbtree', 'colsample_bylevel': 1, 'colsample_bytree': 0.8, 'gamma': 0, 'learning_rate': 0.1, 'max_delta_step': 0, 'max_depth': 5, 'min_child_weight': 1, 'missing': None, 'n_estimators': 35, 'nthread': 1, 'objective': 'binary:logistic', 'reg_alpha': 0, 'reg_lambda': 1, 'scale_pos_weight': 1, 'seed': 0, 'silent': 1, 'subsample': 0.8}\n"
          ]
        }
      ],
      "source": [
        "# These are the initial parameters before tuning.\n",
        "predictors = drop_features(dropl_first)\n",
        "xgb1 = XgbClass()\n",
        "second_model=modelfit(xgb1, train, predictors)"
      ]
    },
    {
      "cell_type": "code",
      "execution_count": null,
      "metadata": {
        "colab": {
          "base_uri": "https://localhost:8080/",
          "height": 86
        },
        "id": "0ny8g14-y0q5",
        "outputId": "2c65b5b2-9eac-44bb-eb8d-2b158b92eef1"
      },
      "outputs": [
        {
          "name": "stdout",
          "output_type": "stream",
          "text": [
            "\n",
            "Model Report\n",
            "Accuracy : 0.8069\n",
            "AUC Score (Train): 0.847366\n"
          ]
        }
      ],
      "source": [
        "get_accuracy(second_model,predictors)"
      ]
    },
    {
      "cell_type": "code",
      "execution_count": null,
      "metadata": {
        "colab": {
          "base_uri": "https://localhost:8080/",
          "height": 585
        },
        "id": "-qIp7Hsey0q8",
        "outputId": "6148a24b-7a59-4676-8c8b-93127f1295cf"
      },
      "outputs": [
        {
          "name": "stdout",
          "output_type": "stream",
          "text": [
            "MonthlyCharges      289\n",
            "tenure              190\n",
            "PaymentMethod        87\n",
            "Contract             63\n",
            "InternetService      57\n",
            "SeniorCitizen        38\n",
            "PaperlessBilling     35\n",
            "StreamingTV          30\n",
            "OnlineSecurity       29\n",
            "TechSupport          28\n",
            "OnlineBackup         28\n",
            "PhoneService         26\n",
            "Partner              26\n",
            "dtype: int64\n"
          ]
        },
        {
          "data": {
            "image/png": "[encoded data removed]",
            "text/plain": [
              "<Figure size 432x288 with 1 Axes>"
            ]
          },
          "metadata": {
            "tags": []
          },
          "output_type": "display_data"
        }
      ],
      "source": [
        "get_feature_importances(second_model)"
      ]
    },
    {
      "cell_type": "markdown",
      "metadata": {
        "id": "YXh08Urby0q-"
      },
      "source": [
        "### Third Prediction: Again removing the features of least importance"
      ]
    },
    {
      "cell_type": "code",
      "execution_count": null,
      "metadata": {
        "id": "luJXI3key0q-"
      },
      "outputs": [],
      "source": [
        "dropl1=dropl+['Partner','PhoneService','OnlineBackup','TechSupport','OnlineSecurity']\n",
        "dropl_second=dropl_first+['Partner','PhoneService','OnlineBackup','TechSupport','OnlineSecurity']"
      ]
    },
    {
      "cell_type": "code",
      "execution_count": null,
      "metadata": {
        "id": "mOO6UZLsy0rB"
      },
      "outputs": [],
      "source": [
        "predictors=drop_features(dropl_second)"
      ]
    },
    {
      "cell_type": "code",
      "execution_count": null,
      "metadata": {
        "colab": {
          "base_uri": "https://localhost:8080/",
          "height": 55
        },
        "id": "U5g3UZTFy0rD",
        "outputId": "52937477-816e-4e1f-9931-39f43e7699da"
      },
      "outputs": [
        {
          "name": "stdout",
          "output_type": "stream",
          "text": [
            "{'base_score': 0.5, 'booster': 'gbtree', 'colsample_bylevel': 1, 'colsample_bytree': 0.8, 'gamma': 0, 'learning_rate': 0.1, 'max_delta_step': 0, 'max_depth': 5, 'min_child_weight': 1, 'missing': None, 'n_estimators': 50, 'nthread': 1, 'objective': 'binary:logistic', 'reg_alpha': 0, 'reg_lambda': 1, 'scale_pos_weight': 1, 'seed': 0, 'silent': 1, 'subsample': 0.8}\n"
          ]
        }
      ],
      "source": [
        "xgb1=XgbClass()\n",
        "third_model=modelfit(xgb1,train,predictors)"
      ]
    },
    {
      "cell_type": "code",
      "execution_count": null,
      "metadata": {
        "colab": {
          "base_uri": "https://localhost:8080/",
          "height": 86
        },
        "id": "HRB8Q3wWy0rG",
        "outputId": "da316409-2da7-493a-a11e-b2cb92f5d985"
      },
      "outputs": [
        {
          "name": "stdout",
          "output_type": "stream",
          "text": [
            "\n",
            "Model Report\n",
            "Accuracy : 0.7984\n",
            "AUC Score (Train): 0.843116\n"
          ]
        }
      ],
      "source": [
        "get_accuracy(third_model,predictors)"
      ]
    },
    {
      "cell_type": "markdown",
      "metadata": {
        "id": "BBMTnnlPy0rO"
      },
      "source": [
        "## 8: Predict on New Cases"
      ]
    },
    {
      "cell_type": "code",
      "execution_count": null,
      "metadata": {
        "id": "t21bqh6_y0rQ"
      },
      "outputs": [],
      "source": [
        "# Function stores the result in required csv file and features. I removed this section for now as the csv files are not yet saving correctly. See prototype version of notebook for details."
      ]
    },
    {
      "cell_type": "markdown",
      "metadata": {
        "id": "Alep7Q3Ky0rr"
      },
      "source": [
        "## 9: Tuning"
      ]
    },
    {
      "cell_type": "code",
      "execution_count": null,
      "metadata": {
        "id": "jyqfjclly0ru"
      },
      "outputs": [],
      "source": [
        "# Tune max_depth and min_child_weight."
      ]
    },
    {
      "cell_type": "code",
      "execution_count": null,
      "metadata": {
        "colab": {
          "base_uri": "https://localhost:8080/",
          "height": 242
        },
        "id": "3j-9y92iy0ry",
        "outputId": "f27079eb-d7c5-4197-a013-e97027062eb0"
      },
      "outputs": [
        {
          "data": {
            "text/plain": [
              "['SeniorCitizen',\n",
              " 'Partner',\n",
              " 'tenure',\n",
              " 'PhoneService',\n",
              " 'InternetService',\n",
              " 'OnlineSecurity',\n",
              " 'OnlineBackup',\n",
              " 'TechSupport',\n",
              " 'StreamingTV',\n",
              " 'Contract',\n",
              " 'PaperlessBilling',\n",
              " 'PaymentMethod',\n",
              " 'MonthlyCharges']"
            ]
          },
          "execution_count": 65,
          "metadata": {
            "tags": []
          },
          "output_type": "execute_result"
        }
      ],
      "source": [
        "predictors = drop_features(dropl_first)\n",
        "predictors"
      ]
    },
    {
      "cell_type": "code",
      "execution_count": null,
      "metadata": {
        "colab": {
          "base_uri": "https://localhost:8080/",
          "height": 2453
        },
        "id": "6L3sYX43y0r2",
        "outputId": "d561721a-91a5-4a25-f402-094aa979f568"
      },
      "outputs": [
        {
          "name": "stdout",
          "output_type": "stream",
          "text": [
            "Fitting 5 folds for each of 25 candidates, totalling 125 fits\n"
          ]
        },
        {
          "name": "stderr",
          "output_type": "stream",
          "text": [
            "[Parallel(n_jobs=-1)]: Using backend LokyBackend with 2 concurrent workers.\n",
            "[Parallel(n_jobs=-1)]: Done  28 tasks      | elapsed:    5.5s\n",
            "[Parallel(n_jobs=-1)]: Done 125 out of 125 | elapsed:   21.5s finished\n"
          ]
        },
        {
          "data": {
            "text/plain": [
              "({'mean_fit_time': array([0.20724802, 0.20932374, 0.20880656, 0.20871305, 0.21010675,\n",
              "         0.24907684, 0.25009632, 0.24860916, 0.24591808, 0.24454684,\n",
              "         0.28334703, 0.28474541, 0.28169541, 0.28036094, 0.27825117,\n",
              "         0.31879997, 0.31600304, 0.31035895, 0.30742917, 0.3038981 ,\n",
              "         0.34530797, 0.33879218, 0.3390099 , 0.32813511, 0.31488495]),\n",
              "  'mean_score_time': array([0.00653849, 0.00614457, 0.00613132, 0.00614538, 0.00614262,\n",
              "         0.00677257, 0.00668726, 0.00675406, 0.00672469, 0.00657935,\n",
              "         0.00738587, 0.00716372, 0.0071681 , 0.00734129, 0.006917  ,\n",
              "         0.00756946, 0.00752988, 0.00749302, 0.00734549, 0.00724516,\n",
              "         0.00789227, 0.00772715, 0.00758004, 0.00755405, 0.00721326]),\n",
              "  'mean_test_score': array([0.84350596, 0.84539506, 0.84513634, 0.84523376, 0.84500423,\n",
              "         0.84303827, 0.84317968, 0.84321582, 0.84356301, 0.84444605,\n",
              "         0.84189866, 0.84086484, 0.84214285, 0.84234019, 0.84326609,\n",
              "         0.83943562, 0.84043105, 0.84044683, 0.84067936, 0.84160174,\n",
              "         0.83793307, 0.83905003, 0.83998942, 0.8404559 , 0.84161988]),\n",
              "  'mean_train_score': array([0.88767187, 0.88560265, 0.88406431, 0.8823102 , 0.88154261,\n",
              "         0.90002083, 0.8966265 , 0.89396688, 0.89145018, 0.88902145,\n",
              "         0.91041047, 0.90512838, 0.90149971, 0.89814357, 0.89440826,\n",
              "         0.91758409, 0.91176831, 0.90613064, 0.90168702, 0.89814501,\n",
              "         0.92202018, 0.91590616, 0.90966859, 0.90400883, 0.89984424]),\n",
              "  'param_max_depth': masked_array(data=[5, 5, 5, 5, 5, 6, 6, 6, 6, 6, 7, 7, 7, 7, 7, 8, 8, 8,\n",
              "                     8, 8, 9, 9, 9, 9, 9],\n",
              "               mask=[False, False, False, False, False, False, False, False,\n",
              "                     False, False, False, False, False, False, False, False,\n",
              "                     False, False, False, False, False, False, False, False,\n",
              "                     False],\n",
              "         fill_value='?',\n",
              "              dtype=object),\n",
              "  'param_min_child_weight': masked_array(data=[5, 6, 7, 8, 9, 5, 6, 7, 8, 9, 5, 6, 7, 8, 9, 5, 6, 7,\n",
              "                     8, 9, 5, 6, 7, 8, 9],\n",
              "               mask=[False, False, False, False, False, False, False, False,\n",
              "                     False, False, False, False, False, False, False, False,\n",
              "                     False, False, False, False, False, False, False, False,\n",
              "                     False],\n",
              "         fill_value='?',\n",
              "              dtype=object),\n",
              "  'params': [{'max_depth': 5, 'min_child_weight': 5},\n",
              "   {'max_depth': 5, 'min_child_weight': 6},\n",
              "   {'max_depth': 5, 'min_child_weight': 7},\n",
              "   {'max_depth': 5, 'min_child_weight': 8},\n",
              "   {'max_depth': 5, 'min_child_weight': 9},\n",
              "   {'max_depth': 6, 'min_child_weight': 5},\n",
              "   {'max_depth': 6, 'min_child_weight': 6},\n",
              "   {'max_depth': 6, 'min_child_weight': 7},\n",
              "   {'max_depth': 6, 'min_child_weight': 8},\n",
              "   {'max_depth': 6, 'min_child_weight': 9},\n",
              "   {'max_depth': 7, 'min_child_weight': 5},\n",
              "   {'max_depth': 7, 'min_child_weight': 6},\n",
              "   {'max_depth': 7, 'min_child_weight': 7},\n",
              "   {'max_depth': 7, 'min_child_weight': 8},\n",
              "   {'max_depth': 7, 'min_child_weight': 9},\n",
              "   {'max_depth': 8, 'min_child_weight': 5},\n",
              "   {'max_depth': 8, 'min_child_weight': 6},\n",
              "   {'max_depth': 8, 'min_child_weight': 7},\n",
              "   {'max_depth': 8, 'min_child_weight': 8},\n",
              "   {'max_depth': 8, 'min_child_weight': 9},\n",
              "   {'max_depth': 9, 'min_child_weight': 5},\n",
              "   {'max_depth': 9, 'min_child_weight': 6},\n",
              "   {'max_depth': 9, 'min_child_weight': 7},\n",
              "   {'max_depth': 9, 'min_child_weight': 8},\n",
              "   {'max_depth': 9, 'min_child_weight': 9}],\n",
              "  'rank_test_score': array([ 7,  1,  3,  2,  4, 11, 10,  9,  6,  5, 14, 17, 13, 12,  8, 23, 21,\n",
              "         20, 18, 16, 25, 24, 22, 19, 15], dtype=int32),\n",
              "  'split0_test_score': array([0.85533496, 0.85848295, 0.85964135, 0.85946191, 0.85960968,\n",
              "         0.85605797, 0.85637461, 0.85443252, 0.85820852, 0.8591954 ,\n",
              "         0.85445363, 0.85355646, 0.85305247, 0.85441405, 0.85572285,\n",
              "         0.85335328, 0.85304191, 0.85166978, 0.8531026 , 0.85502095,\n",
              "         0.85157215, 0.85103913, 0.85164867, 0.85140855, 0.85455126]),\n",
              "  'split0_train_score': array([0.88630849, 0.88413238, 0.88187119, 0.88028313, 0.87891934,\n",
              "         0.89834564, 0.89356391, 0.8907736 , 0.88818437, 0.88543047,\n",
              "         0.90849134, 0.90241369, 0.8988751 , 0.89501791, 0.89122246,\n",
              "         0.91541029, 0.90944683, 0.90365997, 0.89851959, 0.89479034,\n",
              "         0.9209901 , 0.91266714, 0.90661894, 0.90047226, 0.8966495 ]),\n",
              "  'split1_test_score': array([0.86176815, 0.86208216, 0.86366803, 0.86432771, 0.86315612,\n",
              "         0.86230117, 0.86139345, 0.86055698, 0.86137234, 0.86060712,\n",
              "         0.86025353, 0.85831671, 0.86078127, 0.86040921, 0.86164677,\n",
              "         0.85672292, 0.8595358 , 0.8587389 , 0.85800006, 0.85690763,\n",
              "         0.85471222, 0.85673348, 0.85422142, 0.85846976, 0.86049101]),\n",
              "  'split1_train_score': array([0.88363999, 0.8811072 , 0.87970882, 0.87791801, 0.87807193,\n",
              "         0.89722167, 0.89424465, 0.89182259, 0.88859285, 0.88638976,\n",
              "         0.90832352, 0.90377384, 0.89964091, 0.89565479, 0.89128734,\n",
              "         0.91559317, 0.9094753 , 0.90397096, 0.90019255, 0.89575178,\n",
              "         0.9197127 , 0.91436013, 0.90821743, 0.90235079, 0.89687294]),\n",
              "  'split2_test_score': array([0.81757523, 0.81990623, 0.81852617, 0.81932613, 0.81871954,\n",
              "         0.81587466, 0.81703751, 0.81771297, 0.81484425, 0.81874073,\n",
              "         0.81657396, 0.81532634, 0.81548262, 0.81560712, 0.81684414,\n",
              "         0.81267218, 0.81395953, 0.81499258, 0.81561772, 0.81693155,\n",
              "         0.81224306, 0.81339532, 0.81723088, 0.81488928, 0.81627993]),\n",
              "  'split2_train_score': array([0.89099069, 0.88938084, 0.88906701, 0.88680105, 0.88642967,\n",
              "         0.90339114, 0.90015655, 0.89843344, 0.89634821, 0.89388498,\n",
              "         0.91316102, 0.90807683, 0.90516038, 0.90238299, 0.89950127,\n",
              "         0.92076019, 0.91463495, 0.91007013, 0.90584427, 0.9031365 ,\n",
              "         0.92455613, 0.91846364, 0.91328272, 0.90766709, 0.90365255]),\n",
              "  'split3_test_score': array([0.86040584, 0.86242175, 0.86137666, 0.86018568, 0.86159151,\n",
              "         0.85923342, 0.85971353, 0.85983024, 0.86107958, 0.86200796,\n",
              "         0.8575252 , 0.85744562, 0.85940584, 0.8597878 , 0.85980902,\n",
              "         0.85613793, 0.85676127, 0.85572679, 0.85442706, 0.85940053,\n",
              "         0.85435279, 0.8555305 , 0.855     , 0.85561008, 0.85731565]),\n",
              "  'split3_train_score': array([0.88514281, 0.88368691, 0.88124503, 0.87954003, 0.87928201,\n",
              "         0.89676376, 0.89369161, 0.89063336, 0.88962639, 0.8864316 ,\n",
              "         0.90833329, 0.90282704, 0.89891356, 0.89600985, 0.89193951,\n",
              "         0.91557314, 0.90950754, 0.90393765, 0.89954201, 0.89668441,\n",
              "         0.9202997 , 0.9147313 , 0.90729608, 0.9023872 , 0.89886943]),\n",
              "  'split4_test_score': array([0.82244562, 0.82408223, 0.8224695 , 0.82286737, 0.8219443 ,\n",
              "         0.82172414, 0.82137931, 0.82354642, 0.82231034, 0.82167905,\n",
              "         0.820687  , 0.81967905, 0.82199204, 0.82148276, 0.82230769,\n",
              "         0.81829178, 0.81885676, 0.8211061 , 0.82224934, 0.81974801,\n",
              "         0.81678515, 0.81855172, 0.82184615, 0.82190186, 0.81946154]),\n",
              "  'split4_train_score': array([0.89227736, 0.8897059 , 0.8884295 , 0.88700881, 0.88501008,\n",
              "         0.90438196, 0.90147577, 0.89817139, 0.89449907, 0.89297044,\n",
              "         0.91374318, 0.90855049, 0.90490858, 0.9016523 , 0.89809073,\n",
              "         0.92058368, 0.91577695, 0.90901447, 0.90433667, 0.90036203,\n",
              "         0.92454229, 0.9193086 , 0.91292779, 0.90716682, 0.9031768 ]),\n",
              "  'std_fit_time': array([0.0006232 , 0.00222392, 0.00071557, 0.00141248, 0.00287078,\n",
              "         0.00302355, 0.00421593, 0.00283339, 0.00067   , 0.00075281,\n",
              "         0.00040904, 0.0030883 , 0.00151462, 0.00315502, 0.00373123,\n",
              "         0.00543478, 0.00418169, 0.00224869, 0.00386291, 0.00296154,\n",
              "         0.0026668 , 0.002147  , 0.00540497, 0.00303361, 0.01307323]),\n",
              "  'std_score_time': array([5.17995880e-04, 4.87567801e-05, 6.88963857e-05, 9.80356324e-05,\n",
              "         1.15736247e-04, 1.29857073e-04, 9.10139123e-05, 1.42581216e-04,\n",
              "         1.43927402e-04, 6.40586666e-05, 3.89769610e-04, 7.13413409e-05,\n",
              "         9.65980053e-05, 5.43650168e-04, 4.99744906e-05, 1.01841143e-04,\n",
              "         8.67198348e-05, 1.02682871e-04, 8.94820724e-05, 1.22000686e-04,\n",
              "         1.31548613e-04, 8.99962397e-05, 1.82735049e-05, 6.34969151e-05,\n",
              "         7.68520899e-04]),\n",
              "  'std_test_score': array([0.01936481, 0.01920197, 0.0201963 , 0.01980929, 0.02020195,\n",
              "         0.01997503, 0.01968698, 0.01865395, 0.02056666, 0.0198305 ,\n",
              "         0.01913109, 0.01919177, 0.01939713, 0.01962843, 0.01951442,\n",
              "         0.01967162, 0.01978329, 0.01852573, 0.01795046, 0.01906487,\n",
              "         0.01920616, 0.01900733, 0.01679842, 0.01828668, 0.01950796]),\n",
              "  'std_train_score': array([0.00336857, 0.00338089, 0.00389385, 0.00382933, 0.00346249,\n",
              "         0.00321336, 0.00345378, 0.0035647 , 0.00332994, 0.00362703,\n",
              "         0.00249101, 0.00264215, 0.0029001 , 0.00318749, 0.00361894,\n",
              "         0.00252263, 0.00283002, 0.00280762, 0.00286951, 0.00312873,\n",
              "         0.00210417, 0.00254476, 0.00285375, 0.002872  , 0.00301975])},\n",
              " {'max_depth': 5, 'min_child_weight': 6},\n",
              " 0.8453950633251575)"
            ]
          },
          "execution_count": 66,
          "metadata": {
            "tags": []
          },
          "output_type": "execute_result"
        }
      ],
      "source": [
        "param_test1 = {\n",
        " 'max_depth':list(range(5,10,1)),\n",
        " 'min_child_weight':list(range(5,10,1))\n",
        "}\n",
        "gsearch1 = GridSearchCV(estimator=XgbClass(n_estimators=48),param_grid =param_test1,\n",
        "                        scoring='roc_auc',n_jobs=-1,iid=False, cv=5, verbose=3)\n",
        "gsearch1.fit(train[predictors],train[target])\n",
        "gsearch1.cv_results_, gsearch1.best_params_, gsearch1.best_score_"
      ]
    },
    {
      "cell_type": "code",
      "execution_count": null,
      "metadata": {
        "id": "3vc7mUGry0r6"
      },
      "outputs": [],
      "source": [
        "# If the best parameters are edge values then we do \n",
        "# GridSearchCV by taking one less and one value more than the best parameters."
      ]
    },
    {
      "cell_type": "code",
      "execution_count": null,
      "metadata": {
        "colab": {
          "base_uri": "https://localhost:8080/",
          "height": 1779
        },
        "id": "3ToEbGG2y0sF",
        "outputId": "390d1fba-4859-4fea-8ac6-96cb10774fab"
      },
      "outputs": [
        {
          "data": {
            "text/plain": [
              "({'mean_fit_time': array([0.25651345, 0.24808664, 0.25345564, 0.24944706, 0.28951616,\n",
              "         0.28822298, 0.28571844, 0.28517208, 0.32676215, 0.32411208,\n",
              "         0.32022843, 0.31513767, 0.36551666, 0.35565701, 0.34868417,\n",
              "         0.3419539 ]),\n",
              "  'mean_score_time': array([0.00697908, 0.00703349, 0.00803852, 0.00803237, 0.00733232,\n",
              "         0.00735245, 0.00715566, 0.00723968, 0.00774646, 0.00772562,\n",
              "         0.00789828, 0.00892334, 0.00814891, 0.00829682, 0.0079906 ,\n",
              "         0.00785379]),\n",
              "  'mean_test_score': array([0.84042715, 0.84189787, 0.8428498 , 0.84303827, 0.8398022 ,\n",
              "         0.83976764, 0.84035653, 0.84189866, 0.83624953, 0.8369503 ,\n",
              "         0.83858558, 0.83943562, 0.83412339, 0.83550116, 0.83753711,\n",
              "         0.83793307]),\n",
              "  'mean_train_score': array([0.91253411, 0.90805523, 0.90370692, 0.90002083, 0.93031609,\n",
              "         0.92219569, 0.9160066 , 0.91041047, 0.94335466, 0.93313675,\n",
              "         0.92526439, 0.91758409, 0.95263699, 0.94049106, 0.93067881,\n",
              "         0.92202018]),\n",
              "  'param_max_depth': masked_array(data=[6, 6, 6, 6, 7, 7, 7, 7, 8, 8, 8, 8, 9, 9, 9, 9],\n",
              "               mask=[False, False, False, False, False, False, False, False,\n",
              "                     False, False, False, False, False, False, False, False],\n",
              "         fill_value='?',\n",
              "              dtype=object),\n",
              "  'param_min_child_weight': masked_array(data=[2, 3, 4, 5, 2, 3, 4, 5, 2, 3, 4, 5, 2, 3, 4, 5],\n",
              "               mask=[False, False, False, False, False, False, False, False,\n",
              "                     False, False, False, False, False, False, False, False],\n",
              "         fill_value='?',\n",
              "              dtype=object),\n",
              "  'params': [{'max_depth': 6, 'min_child_weight': 2},\n",
              "   {'max_depth': 6, 'min_child_weight': 3},\n",
              "   {'max_depth': 6, 'min_child_weight': 4},\n",
              "   {'max_depth': 6, 'min_child_weight': 5},\n",
              "   {'max_depth': 7, 'min_child_weight': 2},\n",
              "   {'max_depth': 7, 'min_child_weight': 3},\n",
              "   {'max_depth': 7, 'min_child_weight': 4},\n",
              "   {'max_depth': 7, 'min_child_weight': 5},\n",
              "   {'max_depth': 8, 'min_child_weight': 2},\n",
              "   {'max_depth': 8, 'min_child_weight': 3},\n",
              "   {'max_depth': 8, 'min_child_weight': 4},\n",
              "   {'max_depth': 8, 'min_child_weight': 5},\n",
              "   {'max_depth': 9, 'min_child_weight': 2},\n",
              "   {'max_depth': 9, 'min_child_weight': 3},\n",
              "   {'max_depth': 9, 'min_child_weight': 4},\n",
              "   {'max_depth': 9, 'min_child_weight': 5}],\n",
              "  'rank_test_score': array([ 5,  4,  2,  1,  7,  8,  6,  3, 14, 13, 10,  9, 16, 15, 12, 11],\n",
              "        dtype=int32),\n",
              "  'split0_test_score': array([0.85201281, 0.85469639, 0.85603686, 0.85605797, 0.85242973,\n",
              "         0.85254847, 0.85429003, 0.85445363, 0.85053777, 0.85385728,\n",
              "         0.85487054, 0.85335328, 0.84824736, 0.84973032, 0.85418976,\n",
              "         0.85157215]),\n",
              "  'split0_train_score': array([0.91148358, 0.90560685, 0.90161312, 0.89834564, 0.92849395,\n",
              "         0.92024249, 0.91378102, 0.90849134, 0.94190912, 0.93158301,\n",
              "         0.92334943, 0.91541029, 0.9510391 , 0.93836176, 0.92880974,\n",
              "         0.9209901 ]),\n",
              "  'split1_test_score': array([0.85990522, 0.85973634, 0.86111375, 0.86230117, 0.85988938,\n",
              "         0.8550447 , 0.85755148, 0.86025353, 0.85225294, 0.8535723 ,\n",
              "         0.85539829, 0.85672292, 0.8508122 , 0.85301289, 0.85464889,\n",
              "         0.85471222]),\n",
              "  'split1_train_score': array([0.90947331, 0.90446385, 0.90123625, 0.89722167, 0.92682446,\n",
              "         0.9191551 , 0.91332802, 0.90832352, 0.94059167, 0.93181902,\n",
              "         0.92325393, 0.91559317, 0.95017398, 0.93944883, 0.92811973,\n",
              "         0.9197127 ]),\n",
              "  'split2_test_score': array([0.8133185 , 0.81663488, 0.81519919, 0.81587466, 0.81185103,\n",
              "         0.81467472, 0.81574751, 0.81657396, 0.80718902, 0.80890284,\n",
              "         0.81256357, 0.81267218, 0.80743272, 0.80867504, 0.80908296,\n",
              "         0.81224306]),\n",
              "  'split2_train_score': array([0.91551908, 0.91167832, 0.90627402, 0.90339114, 0.93302008,\n",
              "         0.92473686, 0.91910834, 0.91316102, 0.94496118, 0.93506216,\n",
              "         0.92860407, 0.92076019, 0.9545257 , 0.94268249, 0.93376879,\n",
              "         0.92455613]),\n",
              "  'split3_test_score': array([0.85745623, 0.85734218, 0.85870822, 0.85923342, 0.85657029,\n",
              "         0.85755172, 0.85538727, 0.8575252 , 0.85302653, 0.85191777,\n",
              "         0.85208753, 0.85613793, 0.85095491, 0.85195491, 0.85145889,\n",
              "         0.85435279]),\n",
              "  'split3_train_score': array([0.91158164, 0.90663953, 0.9014004 , 0.89676376, 0.92998374,\n",
              "         0.92220603, 0.91476188, 0.90833329, 0.94454013, 0.93234   ,\n",
              "         0.92414641, 0.91557314, 0.95348696, 0.93986018, 0.92970754,\n",
              "         0.9202997 ]),\n",
              "  'split4_test_score': array([0.81944297, 0.82107958, 0.82319098, 0.82172414, 0.81827056,\n",
              "         0.81901857, 0.81880637, 0.820687  , 0.81824138, 0.81650133,\n",
              "         0.81800796, 0.81829178, 0.81316976, 0.81413263, 0.81830504,\n",
              "         0.81678515]),\n",
              "  'split4_train_score': array([0.91461295, 0.9118876 , 0.90801081, 0.90438196, 0.9332582 ,\n",
              "         0.92463799, 0.91905372, 0.91374318, 0.94477121, 0.93487956,\n",
              "         0.92696813, 0.92058368, 0.9539592 , 0.94210205, 0.93298828,\n",
              "         0.92454229]),\n",
              "  'std_fit_time': array([0.00494181, 0.00113587, 0.00906541, 0.00404031, 0.00261352,\n",
              "         0.00370727, 0.0011786 , 0.00209242, 0.00205462, 0.00197183,\n",
              "         0.00304541, 0.00198408, 0.00309444, 0.00160216, 0.00476515,\n",
              "         0.00210007]),\n",
              "  'std_score_time': array([2.21049518e-04, 5.95517947e-04, 2.34343434e-03, 2.20813946e-03,\n",
              "         1.06994969e-04, 1.54404231e-04, 1.23558528e-04, 1.59221032e-04,\n",
              "         9.51900024e-05, 8.68762232e-05, 2.98474710e-04, 2.33817485e-03,\n",
              "         8.16554918e-05, 2.18232568e-04, 1.15529289e-04, 9.60403070e-05]),\n",
              "  'std_test_score': array([0.01989385, 0.0189323 , 0.01954474, 0.01997503, 0.02044015,\n",
              "         0.01883184, 0.01889839, 0.01913109, 0.01954757, 0.01995486,\n",
              "         0.01913506, 0.01967162, 0.01955888, 0.01977934, 0.01971523,\n",
              "         0.01920616]),\n",
              "  'std_train_score': array([0.0022186 , 0.00312124, 0.00286083, 0.00321336, 0.00251355,\n",
              "         0.00225755, 0.00255277, 0.00249101, 0.00177294, 0.00151855,\n",
              "         0.00214547, 0.00252263, 0.00171217, 0.00163804, 0.00227452,\n",
              "         0.00210417])},\n",
              " {'max_depth': 6, 'min_child_weight': 5},\n",
              " 0.8430382710636628)"
            ]
          },
          "execution_count": 68,
          "metadata": {
            "tags": []
          },
          "output_type": "execute_result"
        }
      ],
      "source": [
        "param_test2 = {\n",
        " 'max_depth':[6,7,8,9],\n",
        " 'min_child_weight':[2,3,4,5]\n",
        "}\n",
        "gsearch2 = GridSearchCV(estimator=XgbClass(n_estimators=48),param_grid =param_test2,scoring='roc_auc',n_jobs=-1,iid=False, cv=5)\n",
        "gsearch2.fit(train[predictors],train[target])\n",
        "gsearch2.cv_results_, gsearch2.best_params_, gsearch2.best_score_"
      ]
    },
    {
      "cell_type": "code",
      "execution_count": null,
      "metadata": {
        "colab": {
          "base_uri": "https://localhost:8080/",
          "height": 55
        },
        "id": "eBhirbgNy0sK",
        "outputId": "e946d1cf-6785-4261-9680-1d57e9130382"
      },
      "outputs": [
        {
          "name": "stdout",
          "output_type": "stream",
          "text": [
            "{'base_score': 0.5, 'booster': 'gbtree', 'colsample_bylevel': 1, 'colsample_bytree': 0.8, 'gamma': 0, 'learning_rate': 0.1, 'max_delta_step': 0, 'max_depth': 8, 'min_child_weight': 4, 'missing': None, 'n_estimators': 20, 'nthread': 1, 'objective': 'binary:logistic', 'reg_alpha': 0, 'reg_lambda': 1, 'scale_pos_weight': 1, 'seed': 0, 'silent': 1, 'subsample': 0.8}\n"
          ]
        }
      ],
      "source": [
        "xgb1 = XgbClass(max_depth=8,min_child_weight=4)\n",
        "model=modelfit(xgb1, train, predictors)"
      ]
    },
    {
      "cell_type": "code",
      "execution_count": null,
      "metadata": {
        "colab": {
          "base_uri": "https://localhost:8080/",
          "height": 86
        },
        "id": "2AHAD8Lhy0sM",
        "outputId": "57beb19f-2f49-4280-dc7b-f9c37eea34cf"
      },
      "outputs": [
        {
          "name": "stdout",
          "output_type": "stream",
          "text": [
            "\n",
            "Model Report\n",
            "Accuracy : 0.7979\n",
            "AUC Score (Train): 0.843505\n"
          ]
        }
      ],
      "source": [
        "get_accuracy(model,predictors)"
      ]
    },
    {
      "cell_type": "code",
      "execution_count": null,
      "metadata": {
        "id": "U6Yk0ZKWy0sO"
      },
      "outputs": [],
      "source": [
        "# To tune gamma."
      ]
    },
    {
      "cell_type": "code",
      "execution_count": null,
      "metadata": {
        "colab": {
          "base_uri": "https://localhost:8080/",
          "height": 898
        },
        "id": "15q5_HFVy0sT",
        "outputId": "49c77d37-ac8c-49dd-a6da-e7285d0e36f8"
      },
      "outputs": [
        {
          "data": {
            "text/plain": [
              "({'mean_fit_time': array([0.28967605, 0.28326716, 0.28377404, 0.28291426, 0.28900743,\n",
              "         0.29015837, 0.29366841, 0.28920174]),\n",
              "  'mean_score_time': array([0.00724435, 0.00734229, 0.00721374, 0.0086863 , 0.00774436,\n",
              "         0.007374  , 0.00738888, 0.00745301]),\n",
              "  'mean_test_score': array([0.84189866, 0.84089109, 0.84198526, 0.84263784, 0.8409183 ,\n",
              "         0.8416148 , 0.84014798, 0.84140207]),\n",
              "  'mean_train_score': array([0.91041047, 0.91040467, 0.91002945, 0.90957837, 0.90951727,\n",
              "         0.90899937, 0.90847181, 0.9084777 ]),\n",
              "  'param_gamma': masked_array(data=[0.0, 0.1, 0.2, 0.3, 0.4, 0.5, 0.6, 0.7],\n",
              "               mask=[False, False, False, False, False, False, False, False],\n",
              "         fill_value='?',\n",
              "              dtype=object),\n",
              "  'params': [{'gamma': 0.0},\n",
              "   {'gamma': 0.1},\n",
              "   {'gamma': 0.2},\n",
              "   {'gamma': 0.3},\n",
              "   {'gamma': 0.4},\n",
              "   {'gamma': 0.5},\n",
              "   {'gamma': 0.6},\n",
              "   {'gamma': 0.7}],\n",
              "  'rank_test_score': array([3, 7, 2, 1, 6, 4, 8, 5], dtype=int32),\n",
              "  'split0_test_score': array([0.85445363, 0.85309733, 0.85385728, 0.85648544, 0.85578354,\n",
              "         0.85621365, 0.85276749, 0.85435072]),\n",
              "  'split0_train_score': array([0.90849134, 0.90862491, 0.9075261 , 0.90689203, 0.90746221,\n",
              "         0.90674291, 0.90655903, 0.90616247]),\n",
              "  'split1_test_score': array([0.86025353, 0.85877057, 0.86091321, 0.86234867, 0.85950413,\n",
              "         0.86038546, 0.85921387, 0.85956218]),\n",
              "  'split1_train_score': array([0.90832352, 0.90845526, 0.90805506, 0.90781805, 0.90647346,\n",
              "         0.90588077, 0.90692894, 0.90635926]),\n",
              "  'split2_test_score': array([0.81657396, 0.81441513, 0.8158879 , 0.81562036, 0.81240199,\n",
              "         0.81340061, 0.81352511, 0.81587466]),\n",
              "  'split2_train_score': array([0.91316102, 0.91337118, 0.9137538 , 0.91278303, 0.91264629,\n",
              "         0.91240107, 0.91079651, 0.91175009]),\n",
              "  'split3_test_score': array([0.8575252 , 0.85714324, 0.85908488, 0.85719629, 0.85713528,\n",
              "         0.8570557 , 0.85439788, 0.85738992]),\n",
              "  'split3_train_score': array([0.90833329, 0.90773328, 0.90699326, 0.90662218, 0.90710401,\n",
              "         0.90726269, 0.9053357 , 0.90596101]),\n",
              "  'split4_test_score': array([0.820687  , 0.82102918, 0.82018302, 0.82153846, 0.81976658,\n",
              "         0.82101857, 0.82083554, 0.81983289]),\n",
              "  'split4_train_score': array([0.91374318, 0.91383872, 0.91381905, 0.91377657, 0.91390037,\n",
              "         0.91270943, 0.91273886, 0.9121557 ]),\n",
              "  'std_fit_time': array([0.00835323, 0.00239522, 0.00252602, 0.00213567, 0.00506065,\n",
              "         0.00166652, 0.00445395, 0.00285593]),\n",
              "  'std_score_time': array([1.31115913e-04, 1.56521563e-04, 1.63058481e-04, 2.64334106e-03,\n",
              "         5.22730925e-04, 6.41514178e-05, 9.90320179e-05, 1.91955440e-04]),\n",
              "  'std_test_score': array([0.01913109, 0.01912209, 0.01973838, 0.01983607, 0.02044492,\n",
              "         0.02012029, 0.01901351, 0.01933881]),\n",
              "  'std_train_score': array([0.00249101, 0.00263427, 0.00308594, 0.00306428, 0.00310851,\n",
              "         0.00293835, 0.00281021, 0.00284317])},\n",
              " {'gamma': 0.3},\n",
              " 0.8426378443221705)"
            ]
          },
          "execution_count": 72,
          "metadata": {
            "tags": []
          },
          "output_type": "execute_result"
        }
      ],
      "source": [
        "param_test3 = {\n",
        " 'gamma':[i/10.0 for i in range(0,8)]\n",
        "}\n",
        "gsearch3=GridSearchCV(estimator=XgbClass(n_estimators=48,max_depth=7,min_child_weight=5),\n",
        "                      param_grid =param_test3,scoring='roc_auc',n_jobs=-1,iid=False, cv=5)\n",
        "gsearch3.fit(train[predictors],train[target])\n",
        "gsearch3.cv_results_, gsearch3.best_params_, gsearch3.best_score_"
      ]
    },
    {
      "cell_type": "code",
      "execution_count": null,
      "metadata": {
        "colab": {
          "base_uri": "https://localhost:8080/",
          "height": 55
        },
        "id": "OU1BTcThy0sW",
        "outputId": "3c0c75df-2391-4794-c182-75058f3be23d"
      },
      "outputs": [
        {
          "name": "stdout",
          "output_type": "stream",
          "text": [
            "{'base_score': 0.5, 'booster': 'gbtree', 'colsample_bylevel': 1, 'colsample_bytree': 0.8, 'gamma': 0, 'learning_rate': 0.1, 'max_delta_step': 0, 'max_depth': 7, 'min_child_weight': 5, 'missing': None, 'n_estimators': 20, 'nthread': 1, 'objective': 'binary:logistic', 'reg_alpha': 0, 'reg_lambda': 1, 'scale_pos_weight': 1, 'seed': 0, 'silent': 1, 'subsample': 0.8}\n"
          ]
        }
      ],
      "source": [
        "xgb1 = XgbClass(max_depth=7,min_child_weight=5,gamma=0)\n",
        "model=modelfit(xgb1, train, predictors)"
      ]
    },
    {
      "cell_type": "code",
      "execution_count": null,
      "metadata": {
        "colab": {
          "base_uri": "https://localhost:8080/",
          "height": 86
        },
        "id": "3gsJhBfAy0sb",
        "outputId": "0f9cf70a-6e5e-47b7-e907-a17864ad9ea4"
      },
      "outputs": [
        {
          "name": "stdout",
          "output_type": "stream",
          "text": [
            "\n",
            "Model Report\n",
            "Accuracy : 0.8027\n",
            "AUC Score (Train): 0.844282\n"
          ]
        }
      ],
      "source": [
        "get_accuracy(model,predictors)"
      ]
    },
    {
      "cell_type": "code",
      "execution_count": null,
      "metadata": {
        "colab": {
          "base_uri": "https://localhost:8080/",
          "height": 1814
        },
        "id": "cyFX2Zovy0sb",
        "outputId": "eaca23db-94ce-4d00-b157-ef91ce72e586"
      },
      "outputs": [
        {
          "data": {
            "text/plain": [
              "({'mean_fit_time': array([0.24761925, 0.24028883, 0.23841305, 0.23658376, 0.27860475,\n",
              "         0.27579222, 0.27358937, 0.25988464, 0.28870115, 0.28766732,\n",
              "         0.28121572, 0.27407904, 0.304284  , 0.30221763, 0.29781356,\n",
              "         0.28894463]),\n",
              "  'mean_score_time': array([0.00745382, 0.00756383, 0.00910616, 0.00766773, 0.00748549,\n",
              "         0.00750766, 0.00747414, 0.00724821, 0.00714731, 0.00728402,\n",
              "         0.00721726, 0.00721107, 0.00716071, 0.00730948, 0.00833058,\n",
              "         0.00849657]),\n",
              "  'mean_test_score': array([0.84051166, 0.84041769, 0.84022394, 0.84168989, 0.83987525,\n",
              "         0.84008881, 0.84050073, 0.84057328, 0.84029717, 0.83995671,\n",
              "         0.84189866, 0.83927434, 0.83927259, 0.83936597, 0.84106022,\n",
              "         0.83889594]),\n",
              "  'mean_train_score': array([0.89651826, 0.90120841, 0.90492691, 0.90857003, 0.89975845,\n",
              "         0.90490393, 0.90868614, 0.91178254, 0.90200789, 0.90601781,\n",
              "         0.91041047, 0.91265981, 0.90269874, 0.90713974, 0.91118315,\n",
              "         0.91401333]),\n",
              "  'param_colsample_bytree': masked_array(data=[0.6, 0.6, 0.6, 0.6, 0.7, 0.7, 0.7, 0.7, 0.8, 0.8, 0.8,\n",
              "                     0.8, 0.9, 0.9, 0.9, 0.9],\n",
              "               mask=[False, False, False, False, False, False, False, False,\n",
              "                     False, False, False, False, False, False, False, False],\n",
              "         fill_value='?',\n",
              "              dtype=object),\n",
              "  'param_subsample': masked_array(data=[0.6, 0.7, 0.8, 0.9, 0.6, 0.7, 0.8, 0.9, 0.6, 0.7, 0.8,\n",
              "                     0.9, 0.6, 0.7, 0.8, 0.9],\n",
              "               mask=[False, False, False, False, False, False, False, False,\n",
              "                     False, False, False, False, False, False, False, False],\n",
              "         fill_value='?',\n",
              "              dtype=object),\n",
              "  'params': [{'colsample_bytree': 0.6, 'subsample': 0.6},\n",
              "   {'colsample_bytree': 0.6, 'subsample': 0.7},\n",
              "   {'colsample_bytree': 0.6, 'subsample': 0.8},\n",
              "   {'colsample_bytree': 0.6, 'subsample': 0.9},\n",
              "   {'colsample_bytree': 0.7, 'subsample': 0.6},\n",
              "   {'colsample_bytree': 0.7, 'subsample': 0.7},\n",
              "   {'colsample_bytree': 0.7, 'subsample': 0.8},\n",
              "   {'colsample_bytree': 0.7, 'subsample': 0.9},\n",
              "   {'colsample_bytree': 0.8, 'subsample': 0.6},\n",
              "   {'colsample_bytree': 0.8, 'subsample': 0.7},\n",
              "   {'colsample_bytree': 0.8, 'subsample': 0.8},\n",
              "   {'colsample_bytree': 0.8, 'subsample': 0.9},\n",
              "   {'colsample_bytree': 0.9, 'subsample': 0.6},\n",
              "   {'colsample_bytree': 0.9, 'subsample': 0.7},\n",
              "   {'colsample_bytree': 0.9, 'subsample': 0.8},\n",
              "   {'colsample_bytree': 0.9, 'subsample': 0.9}],\n",
              "  'rank_test_score': array([ 5,  7,  9,  2, 12, 10,  6,  4,  8, 11,  1, 14, 15, 13,  3, 16],\n",
              "        dtype=int32),\n",
              "  'split0_test_score': array([0.85614768, 0.8572665 , 0.85487846, 0.85740635, 0.85199434,\n",
              "         0.85353535, 0.8562374 , 0.85699471, 0.85311844, 0.85387575,\n",
              "         0.85445363, 0.85213683, 0.85002586, 0.85284665, 0.85399977,\n",
              "         0.85325037]),\n",
              "  'split0_train_score': array([0.8923226 , 0.89858712, 0.90090639, 0.90472254, 0.89619716,\n",
              "         0.90247145, 0.90562903, 0.90960406, 0.89723242, 0.90449033,\n",
              "         0.90849134, 0.91166862, 0.90043651, 0.90732004, 0.91078398,\n",
              "         0.91472707]),\n",
              "  'split1_test_score': array([0.85865447, 0.8587864 , 0.85941442, 0.85673348, 0.85955691,\n",
              "         0.85942497, 0.85737205, 0.85561466, 0.8600952 , 0.85860169,\n",
              "         0.86025353, 0.85567271, 0.85826921, 0.85884445, 0.85443252,\n",
              "         0.85375173]),\n",
              "  'split1_train_score': array([0.89336613, 0.89703298, 0.90146863, 0.90499497, 0.89617465,\n",
              "         0.90115251, 0.90611017, 0.9060764 , 0.89817169, 0.90205999,\n",
              "         0.90832352, 0.90871594, 0.89899725, 0.90462224, 0.91010556,\n",
              "         0.91059397]),\n",
              "  'split2_test_score': array([0.81333704, 0.81269866, 0.81208148, 0.81590644, 0.81340326,\n",
              "         0.81274634, 0.81131331, 0.81558858, 0.81418733, 0.8145926 ,\n",
              "         0.81657396, 0.8116709 , 0.8142509 , 0.8128523 , 0.81624815,\n",
              "         0.81336883]),\n",
              "  'split2_train_score': array([0.9008955 , 0.90581815, 0.90840224, 0.9126362 , 0.90556516,\n",
              "         0.90941418, 0.91373429, 0.9160229 , 0.90787428, 0.9104291 ,\n",
              "         0.91316102, 0.91546551, 0.90738716, 0.90897171, 0.91313986,\n",
              "         0.91593642]),\n",
              "  'split3_test_score': array([0.85693103, 0.85822812, 0.85761804, 0.85865517, 0.85524403,\n",
              "         0.85927586, 0.8574191 , 0.8552069 , 0.85477188, 0.85667374,\n",
              "         0.8575252 , 0.85645358, 0.85617772, 0.85636605, 0.8595252 ,\n",
              "         0.85740584]),\n",
              "  'split3_train_score': array([0.89500685, 0.89910613, 0.9033583 , 0.90722699, 0.89675053,\n",
              "         0.9030449 , 0.90599803, 0.91067319, 0.90041227, 0.90401534,\n",
              "         0.90833329, 0.91105716, 0.90023177, 0.9047861 , 0.90861578,\n",
              "         0.91064641]),\n",
              "  'split4_test_score': array([0.81748806, 0.81510875, 0.81712732, 0.81974801, 0.81917772,\n",
              "         0.81546154, 0.8201618 , 0.81946154, 0.819313  , 0.81603979,\n",
              "         0.820687  , 0.82043767, 0.81763926, 0.81592042, 0.82109549,\n",
              "         0.81670292]),\n",
              "  'split4_train_score': array([0.90100022, 0.90549769, 0.91049897, 0.91326945, 0.90410476,\n",
              "         0.9084366 , 0.91195917, 0.91653614, 0.90634878, 0.90909431,\n",
              "         0.91374318, 0.91639184, 0.90644102, 0.90999862, 0.91327061,\n",
              "         0.91816279]),\n",
              "  'std_fit_time': array([0.00486386, 0.00197052, 0.00177845, 0.00313342, 0.00133732,\n",
              "         0.00091447, 0.00168511, 0.00181217, 0.00133942, 0.00242639,\n",
              "         0.00169305, 0.00226738, 0.00303365, 0.00359041, 0.00268393,\n",
              "         0.00227884]),\n",
              "  'std_score_time': array([8.20058162e-05, 2.18495871e-04, 2.97623317e-03, 2.17010964e-04,\n",
              "         1.18402190e-04, 1.30700239e-04, 1.74339217e-04, 7.62777609e-05,\n",
              "         9.85414878e-05, 9.77379627e-05, 9.24649342e-05, 6.56049954e-05,\n",
              "         7.20679698e-05, 2.73254004e-04, 2.21648833e-03, 2.68110259e-03]),\n",
              "  'std_test_score': array([0.02055134, 0.02166744, 0.02102872, 0.01953136, 0.0194915 ,\n",
              "         0.02133988, 0.02041614, 0.01886791, 0.01943154, 0.02018014,\n",
              "         0.01913109, 0.01921586, 0.01926849, 0.02050761, 0.01844687,\n",
              "         0.01956284]),\n",
              "  'std_train_score': array([0.00371678, 0.00369791, 0.00383955, 0.00368799, 0.0041757 ,\n",
              "         0.00335465, 0.00344685, 0.00397778, 0.00432031, 0.00319161,\n",
              "         0.00249101, 0.00286025, 0.00348971, 0.00216514, 0.00179433,\n",
              "         0.00298174])},\n",
              " {'colsample_bytree': 0.8, 'subsample': 0.8},\n",
              " 0.8418986626168443)"
            ]
          },
          "execution_count": 75,
          "metadata": {
            "tags": []
          },
          "output_type": "execute_result"
        }
      ],
      "source": [
        "param_test4 = {\n",
        " 'subsample':[i/10.0 for i in range(6,10)],\n",
        " 'colsample_bytree':[i/10.0 for i in range(6,10)]\n",
        "}\n",
        "gsearch4=GridSearchCV(estimator=XgbClass(n_estimators=48,max_depth=7,\n",
        "                                         min_child_weight=5,gamma=0),\n",
        "                      param_grid =param_test4,scoring='roc_auc',n_jobs=-1,iid=False, cv=5)\n",
        "gsearch4.fit(train[predictors],train[target])\n",
        "gsearch4.cv_results_, gsearch4.best_params_, gsearch4.best_score_"
      ]
    },
    {
      "cell_type": "code",
      "execution_count": null,
      "metadata": {
        "colab": {
          "base_uri": "https://localhost:8080/",
          "height": 55
        },
        "id": "WMPJK63Fy0sf",
        "outputId": "81f0e7fc-895a-4419-c30b-c5db9d6e81e5"
      },
      "outputs": [
        {
          "name": "stdout",
          "output_type": "stream",
          "text": [
            "{'base_score': 0.5, 'booster': 'gbtree', 'colsample_bylevel': 1, 'colsample_bytree': 0.6, 'gamma': 0.4, 'learning_rate': 0.1, 'max_delta_step': 0, 'max_depth': 8, 'min_child_weight': 4, 'missing': None, 'n_estimators': 18, 'nthread': 1, 'objective': 'binary:logistic', 'reg_alpha': 0, 'reg_lambda': 1, 'scale_pos_weight': 1, 'seed': 0, 'silent': 1, 'subsample': 0.8}\n"
          ]
        }
      ],
      "source": [
        "xgb1 = XgbClass(max_depth=8,min_child_weight=4,gamma=0.4,subsample=0.8,colsample_bytree=0.6)\n",
        "model=modelfit(xgb1, train, predictors)"
      ]
    },
    {
      "cell_type": "code",
      "execution_count": null,
      "metadata": {
        "colab": {
          "base_uri": "https://localhost:8080/",
          "height": 86
        },
        "id": "Vj-WHMJ9y0sg",
        "outputId": "d774ea22-ef26-47b3-8584-0f7c832beb50"
      },
      "outputs": [
        {
          "name": "stdout",
          "output_type": "stream",
          "text": [
            "\n",
            "Model Report\n",
            "Accuracy : 0.7979\n",
            "AUC Score (Train): 0.843383\n"
          ]
        }
      ],
      "source": [
        "get_accuracy(model,predictors)"
      ]
    },
    {
      "cell_type": "code",
      "execution_count": null,
      "metadata": {
        "id": "2hsrfoIXy0sj"
      },
      "outputs": [],
      "source": [
        "#dropl1=dropl+['Partner','PhoneService','OnlineBackup','TechSupport','OnlineSecurity']\n",
        "# RunTestAndSaveResults(dropl,'final_result.csv',model)\n",
        "#FixMeLater the final_result file is not printing to csv"
      ]
    },
    {
      "cell_type": "markdown",
      "metadata": {
        "id": "15m86I98uHYC"
      },
      "source": [
        "Next Steps\n",
        "* Run some actual data from your company. For case study purposes, let's keep going with dummy data ...\n",
        "* After some initial analysis, cleaning, and tuning we're consistently getting an accuracy of 80% and AUC ~84%. Feature engineering and tuning did not improve (in some cases made worse, seems to be overfitting).\n",
        "* This meets our prediction success threshold of 80%.\n",
        "* Share findings with team. \n",
        "* Discuss some possible next steps:\n",
        "    * Get more data. This is only ~3k records after cleaning.\n",
        "\n",
        "      \n",
        "  * **Get more detailed data on features that are showing to be relatively LESS predictive but our analysis show with more details they could be really useful**\n"
      ]
    }
  ],
  "metadata": {
    "colab": {
      "collapsed_sections": [],
      "name": "Predict Amount Spent on Campaigns Case Study.ipynb",
      "provenance": []
    },
    "kernelspec": {
      "display_name": "Python 3.10.4 64-bit",
      "language": "python",
      "name": "python3"
    },
    "language_info": {
      "codemirror_mode": {
        "name": "ipython",
        "version": 3
      },
      "file_extension": ".py",
      "mimetype": "text/x-python",
      "name": "python",
      "nbconvert_exporter": "python",
      "pygments_lexer": "ipython3",
      "version": "3.10.4"
    },
    "vscode": {
      "interpreter": {
        "hash": "fb4569285eef3a3450cb62085a5b1e0da4bce0af555edc33dcf29baf3acc1368"
      }
    }
  },
  "nbformat": 4,
  "nbformat_minor": 0
}
